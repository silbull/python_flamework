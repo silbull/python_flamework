{
 "cells": [
  {
   "attachments": {},
   "cell_type": "markdown",
   "metadata": {},
   "source": [
    "## データ前処理についての勉強\n",
    "よりよい訓練データセットの構築について学ぶ"
   ]
  },
  {
   "attachments": {},
   "cell_type": "markdown",
   "metadata": {},
   "source": [
    "#### 欠測データへの対処\n",
    "欠測データは予期せぬ結果を生み出す原因となる。"
   ]
  },
  {
   "cell_type": "code",
   "execution_count": 50,
   "metadata": {},
   "outputs": [
    {
     "name": "stdout",
     "output_type": "stream",
     "text": [
      "      A     B     C    D\n",
      "0   1.0   2.0   3.0  4.0\n",
      "1   5.0   6.0   NaN  8.0\n",
      "2  10.0  11.0  12.0  NaN\n"
     ]
    }
   ],
   "source": [
    "# 研究室の環境で動くことを確認\n",
    "import pandas as pd\n",
    "from io import StringIO\n",
    "# サンプルデータの作成\n",
    "csv_data =  '''A,B,C,D\n",
    "            1.0,2.0,3.0,4.0\n",
    "            5.0,6.0,,8.0\n",
    "            10.0,11.0,12.0,'''\n",
    "# CSVデータを読み込む\n",
    "df = pd.read_csv(StringIO(csv_data))\n",
    "print(df)\n"
   ]
  },
  {
   "attachments": {},
   "cell_type": "markdown",
   "metadata": {},
   "source": [
    "##### 手法1 欠測データをもつ訓練データ/特徴量を削除"
   ]
  },
  {
   "cell_type": "code",
   "execution_count": 51,
   "metadata": {},
   "outputs": [
    {
     "name": "stdout",
     "output_type": "stream",
     "text": [
      "     A    B    C    D\n",
      "0  1.0  2.0  3.0  4.0\n",
      "      A     B\n",
      "0   1.0   2.0\n",
      "1   5.0   6.0\n",
      "2  10.0  11.0\n",
      "      A     B     C    D\n",
      "0   1.0   2.0   3.0  4.0\n",
      "1   5.0   6.0   NaN  8.0\n",
      "2  10.0  11.0  12.0  NaN\n",
      "     A    B    C    D\n",
      "0  1.0  2.0  3.0  4.0\n",
      "      A     B     C    D\n",
      "0   1.0   2.0   3.0  4.0\n",
      "2  10.0  11.0  12.0  NaN\n"
     ]
    }
   ],
   "source": [
    "# 欠測値を含む行を削除\n",
    "print(df.dropna())\n",
    "# 欠測値を含む列を削除\n",
    "print(df.dropna(axis = 1))\n",
    "# すべての列がNaNである行を削除\n",
    "print(df.dropna(how = 'all'))\n",
    "# 非NaN値が4つ未満の行を削除\n",
    "print(df.dropna(thresh = 4))\n",
    "# 特定の列にNaNがある行を削除\n",
    "print(df.dropna(subset = ['C']))"
   ]
  },
  {
   "attachments": {},
   "cell_type": "markdown",
   "metadata": {},
   "source": [
    "データ点を削除すると解析の信頼性が失われる他、特徴量の列を削除しすぎると有益な情報を減らすことになる。一般に手法1は現実的ではない。\n",
    "##### 手法2 補完法"
   ]
  },
  {
   "attachments": {},
   "cell_type": "markdown",
   "metadata": {},
   "source": [
    "以下は\n",
    "sklearn.imputeモジュールからSimpleImputerクラスをインポートし、欠損値補完のインスタンスimrを生成。missing_values引数には、欠損値として扱う値を指定している。ここでは、np.nanを欠損値として扱うようにしている。また、strategy引数には、欠損値を補完する方法を指定している。ここでは、平均値を用いて欠損値を補完するようにしている。\n",
    "\n",
    "欠損値補完のインスタンスimrに、Pandas DataFrameのdfをNumPy配列に変換したデータdf.valuesを入力して、欠損値補完のモデルを学習。fitメソッドは、入力されたデータを用いて欠損値補完のモデルを学習するメソッド。\n",
    "\n",
    "学習済みのモデルimrを用いて、df.valuesの欠損値を平均値で補完し、補完後のデータをimputed_dataに代入する。transformメソッドは、学習済みのモデルを用いてデータを変換するメソッドであり、補完後のデータを返す。\n"
   ]
  },
  {
   "cell_type": "code",
   "execution_count": 52,
   "metadata": {},
   "outputs": [
    {
     "name": "stdout",
     "output_type": "stream",
     "text": [
      "[[ 1.   2.   3.   4. ]\n",
      " [ 5.   6.   7.5  8. ]\n",
      " [10.  11.  12.   6. ]]\n"
     ]
    }
   ],
   "source": [
    "\"\"\"平均値補完\"\"\"\n",
    "from sklearn.impute import SimpleImputer\n",
    "import numpy as np\n",
    "# 欠測値補完のインスタンスを生成\n",
    "imr = SimpleImputer(missing_values = np.nan, strategy = 'mean') #np.nanは欠損値を表す。その列の平均値で補完、最頻値はmost_frequent\n",
    "# データを適合\n",
    "imr = imr.fit(df.values) #df.valuesでnumpy配列に変換し、fitで学習\n",
    "# 補完を実行\n",
    "imputed_data = imr.transform(df.values) #transformはfitしたデータを変換する\n",
    "print(imputed_data)\n"
   ]
  },
  {
   "attachments": {},
   "cell_type": "markdown",
   "metadata": {},
   "source": [
    "scikit-learnには変換器クラスと推定器クラスがある。\n",
    "変換器クラスは、データの前処理や特徴量エンジニアリングなどのタスクを実行するためのクラス。具体的には、データの欠損値や異常値の処理、正規化、特徴量の選択や抽出、次元削減などのタスクを実行することができる。変換器は、fit()メソッドで変換器自身を学習し、transform()メソッドでデータを変換する。\n",
    "\n",
    "推定器クラスは、データを学習し、予測するためのクラス。具体的には、教師あり学習の場合は入力データと対応するラベルデータを用いて、モデルを学習し、未知のデータに対して予測値を出力することができる。一方、教師なし学習の場合は、入力データだけを用いて、データの構造やパターンを解析し、その情報を用いてクラスタリングや次元削減などのタスクを実行することができる。推定器は、fit()メソッドを用いてデータを学習し、predict()メソッドを用いて予測を行う。\n",
    "`前章でやったSVMやロジスティック回帰がこれにあたる。`"
   ]
  },
  {
   "attachments": {},
   "cell_type": "markdown",
   "metadata": {},
   "source": [
    "##### 数値データではなくカテゴリデータを扱う方法\n",
    "カテゴリデータとは、Tシャツでいう青とか赤みたいな感じ。"
   ]
  },
  {
   "cell_type": "code",
   "execution_count": 53,
   "metadata": {},
   "outputs": [
    {
     "name": "stdout",
     "output_type": "stream",
     "text": [
      "   color size  price classlabel\n",
      "0  green    M   10.1     class1\n",
      "1    red    L   13.5     class2\n",
      "2   blue   XL   15.3     class1\n"
     ]
    }
   ],
   "source": [
    "import pandas as pd\n",
    "# サンプルデータの作成(Tシャツの色・サイズ・価格・クラスラベル)\n",
    "df = pd.DataFrame([['green', 'M', 10.1, 'class1'],\n",
    "                     ['red', 'L', 13.5, 'class2'],\n",
    "                        ['blue', 'XL', 15.3, 'class1']])\n",
    "# 列名を設定\n",
    "df.columns = ['color', 'size', 'price', 'classlabel']\n",
    "print(df)\n"
   ]
  },
  {
   "attachments": {},
   "cell_type": "markdown",
   "metadata": {},
   "source": [
    "sizeみたいな順序特徴量を正しく解釈させるには、文字列の値を整数に対応させる必要がある。"
   ]
  },
  {
   "cell_type": "code",
   "execution_count": 54,
   "metadata": {},
   "outputs": [
    {
     "name": "stdout",
     "output_type": "stream",
     "text": [
      "   color  size  price classlabel\n",
      "0  green     1   10.1     class1\n",
      "1    red     2   13.5     class2\n",
      "2   blue     3   15.3     class1\n"
     ]
    }
   ],
   "source": [
    "# Tシャツのサイズと整数を対応させる辞書を作成\n",
    "size_mapping = {'XL': 3, 'L': 2, 'M': 1}\n",
    "# Tシャツのサイズを整数に変換\n",
    "df['size'] = df['size'].map(size_mapping) #mapメソッドは辞書のキーに対応する値を取り出す。要はキーと値を入れ替える\n",
    "print(df)"
   ]
  },
  {
   "cell_type": "code",
   "execution_count": 55,
   "metadata": {},
   "outputs": [
    {
     "data": {
      "text/plain": [
       "0     M\n",
       "1     L\n",
       "2    XL\n",
       "Name: size, dtype: object"
      ]
     },
     "execution_count": 55,
     "metadata": {},
     "output_type": "execute_result"
    }
   ],
   "source": [
    "\"\"\"あとから整数値を元の文字列表現に戻したい場合\"\"\"\n",
    "inv_size_mapping = {v: k for k, v in size_mapping.items()} #itemsメソッドで辞書のキーと値を取り出す\n",
    "df['size'].map(inv_size_mapping) #変換された特徴量の列でmapメソッドを呼び出す"
   ]
  },
  {
   "attachments": {},
   "cell_type": "markdown",
   "metadata": {},
   "source": [
    "#### クラスラベルのエンコーディング\n",
    "多くの機械学習ライブラリではクラスラベルは整数値としてエンコードされている必要がある。クラスラベルは順序は特にないから、0から順に番号付けすればok"
   ]
  },
  {
   "cell_type": "code",
   "execution_count": 56,
   "metadata": {},
   "outputs": [
    {
     "name": "stdout",
     "output_type": "stream",
     "text": [
      "{'class1': 0, 'class2': 1}\n",
      "   color  size  price  classlabel\n",
      "0  green     1   10.1           0\n",
      "1    red     2   13.5           1\n",
      "2   blue     3   15.3           0\n"
     ]
    }
   ],
   "source": [
    "import numpy as np\n",
    "# クラスラベルと整数を対応させる辞書を作成\n",
    "class_mapping = {label: idx for idx, label in \n",
    "                enumerate(np.unique(df['classlabel']))} #enumerateはインデックスと要素を取り出す(for文だけど、タプルで返す)\n",
    "# np.uniqueは重複を除いた要素を取り出す\n",
    "# for idx, label in enumerate(np.unique(df['classlabel']))\n",
    "print(class_mapping)\n",
    "#print('\\n')\n",
    "# クラスラベルを整数に変換\n",
    "df['classlabel'] = df['classlabel'].map(class_mapping) #mapメソッドは辞書のキーに対応する値を取り出す。要はキーと値を入れ替える\n",
    "print(df)\n"
   ]
  },
  {
   "cell_type": "code",
   "execution_count": 57,
   "metadata": {},
   "outputs": [
    {
     "data": {
      "text/html": [
       "<div>\n",
       "<style scoped>\n",
       "    .dataframe tbody tr th:only-of-type {\n",
       "        vertical-align: middle;\n",
       "    }\n",
       "\n",
       "    .dataframe tbody tr th {\n",
       "        vertical-align: top;\n",
       "    }\n",
       "\n",
       "    .dataframe thead th {\n",
       "        text-align: right;\n",
       "    }\n",
       "</style>\n",
       "<table border=\"1\" class=\"dataframe\">\n",
       "  <thead>\n",
       "    <tr style=\"text-align: right;\">\n",
       "      <th></th>\n",
       "      <th>color</th>\n",
       "      <th>size</th>\n",
       "      <th>price</th>\n",
       "      <th>classlabel</th>\n",
       "    </tr>\n",
       "  </thead>\n",
       "  <tbody>\n",
       "    <tr>\n",
       "      <th>0</th>\n",
       "      <td>green</td>\n",
       "      <td>1</td>\n",
       "      <td>10.1</td>\n",
       "      <td>class1</td>\n",
       "    </tr>\n",
       "    <tr>\n",
       "      <th>1</th>\n",
       "      <td>red</td>\n",
       "      <td>2</td>\n",
       "      <td>13.5</td>\n",
       "      <td>class2</td>\n",
       "    </tr>\n",
       "    <tr>\n",
       "      <th>2</th>\n",
       "      <td>blue</td>\n",
       "      <td>3</td>\n",
       "      <td>15.3</td>\n",
       "      <td>class1</td>\n",
       "    </tr>\n",
       "  </tbody>\n",
       "</table>\n",
       "</div>"
      ],
      "text/plain": [
       "   color  size  price classlabel\n",
       "0  green     1   10.1     class1\n",
       "1    red     2   13.5     class2\n",
       "2   blue     3   15.3     class1"
      ]
     },
     "execution_count": 57,
     "metadata": {},
     "output_type": "execute_result"
    }
   ],
   "source": [
    "#整数からクラスラベルに変換する逆の辞書を作成\n",
    "inv_class_mapping = {v: k for k, v in class_mapping.items()} #itemsメソッドで辞書のキーと値を取り出す\n",
    "df['classlabel'] = df['classlabel'].map(inv_class_mapping)\n",
    "df"
   ]
  },
  {
   "attachments": {},
   "cell_type": "markdown",
   "metadata": {},
   "source": [
    "\n",
    "####  次のコードはクラスラベルを整数変換するための便利なクラスを使っている。"
   ]
  },
  {
   "cell_type": "code",
   "execution_count": 58,
   "metadata": {},
   "outputs": [
    {
     "name": "stdout",
     "output_type": "stream",
     "text": [
      "[0 1 0]\n"
     ]
    },
    {
     "data": {
      "text/plain": [
       "array(['class1', 'class2', 'class1'], dtype=object)"
      ]
     },
     "execution_count": 58,
     "metadata": {},
     "output_type": "execute_result"
    }
   ],
   "source": [
    "from sklearn.preprocessing import LabelEncoder\n",
    "# ラベルエンコーダのインスタンスを生成\n",
    "class_le = LabelEncoder()\n",
    "# クラスラベルを整数に変換\n",
    "y = class_le.fit_transform(df['classlabel'].values) #fit_transformはfitとtransformをまとめたもの\n",
    "print(y)\n",
    "\n",
    "#クラスラベルを元の文字列に戻す (今回の例では文字列がすでに整数に変換されているので、元に戻すことはできない)\n",
    "class_le.inverse_transform(y)"
   ]
  },
  {
   "attachments": {},
   "cell_type": "markdown",
   "metadata": {},
   "source": [
    "#### ●今まで使用したデータフレームについておさらい\n",
    "```python\n",
    "import pandas as pd\n",
    "# サンプルデータの作成(Tシャツの色・サイズ・価格・クラスラベル)\n",
    "df = pd.DataFrame([['green', 'M', 10.1, 'class1'],\n",
    "                     ['red', 'L', 13.5, 'class2'],\n",
    "                        ['blue', 'XL', 15.3, 'class1']])\n",
    "# 列名を設定\n",
    "df.columns = ['color', 'size', 'price', 'classlabel']\n",
    "print(df)\n",
    "```\n",
    "サイズは順序特徴量なので、M, L, XLの順で1, 2, 3と変換した。クラスラベルは順序を持たないので、LabelEncoderを使って整数に変換した。では色について、blue→0, green→1, red→2と変換して良いのか？"
   ]
  },
  {
   "attachments": {},
   "cell_type": "markdown",
   "metadata": {},
   "source": [
    "#### 答えは「NO」\n",
    "色には順序はないけれども、学習アルゴリズムはgreenが0よりも大きく、redがgreenよりも大きいと想定してしまう。これは正しくない。\n",
    "これを避けるために`「one-hotエンコーティング」`という手法をつかう。"
   ]
  },
  {
   "cell_type": "code",
   "execution_count": 59,
   "metadata": {},
   "outputs": [
    {
     "data": {
      "text/plain": [
       "array([[0., 1., 0.],\n",
       "       [0., 0., 1.],\n",
       "       [1., 0., 0.]])"
      ]
     },
     "execution_count": 59,
     "metadata": {},
     "output_type": "execute_result"
    }
   ],
   "source": [
    "from sklearn.preprocessing import OneHotEncoder\n",
    "\"\"\"このメソッドを使用することで、pandasのデータフレームやシリーズオブジェクトに含まれるデータを、\n",
    "NumPyの多次元配列として扱うことができます。NumPyの配列は、高速な数値演算を行うことができるため、\n",
    "データの加工や解析において、非常に有用なデータ形式となります。\n",
    "\"\"\"\n",
    "X = df[['color', 'size', 'price']].values #valuesはnumpy配列に変換\n",
    "# one-hotエンコーダのインスタンスを生成\n",
    "color_ohe = OneHotEncoder()\n",
    "# one-hotエンコーディングを実行\n",
    "\"\"\"reshape()関数は、NumPyの配列（array）オブジェクトに対して、その形状を変更するためのメソッドです。\n",
    "具体的には、reshape()関数をNumPyの配列に適用すると、その配列の要素を、指定した形状に変形することができます。\n",
    "たとえば、1次元の配列を2次元の行列に変形することができます。このとき、変形後の行列の要素数が元の配列の要素数と一致するように指定する必要があります。\n",
    "reshape()関数は、元の配列自体を変更するのではなく、新しい配列を作成します。\n",
    "そのため、元の配列の形状を変更する場合でも、元の配列自体を維持したまま操作することができます。\n",
    "また、reshape()関数を用いて配列の形状を変更することで、配列のデータを別の形式で解釈することができます。\n",
    "たとえば、1次元の配列を2次元の行列に変形することで、その配列を画像のピクセルデータとして解釈することができます。\n",
    "\"\"\"\n",
    "color_ohe.fit_transform(X[:, 0].reshape(-1, 1)).toarray() #X[:, 0]は0列目のcolorのこと、reshape(-1, 1)は1列の2次元配列に変換\n",
    "#toarray()はnumpy配列に変換"
   ]
  },
  {
   "attachments": {},
   "cell_type": "markdown",
   "metadata": {},
   "source": [
    "上のコードで利用しているreshapeメソッド、reshape(1, -1)で１次元配列を２次元1行の配列に変換する。reshape(-1, 1)で１次元配列を２次元１列の配列にする。\n",
    " ```python\n",
    " import numpy as np\n",
    "np.arange(6).reshape((1, -1))\n",
    "np.arrange(6).reshape((-1, 1))\n",
    "```\n",
    "出力\n",
    "```python\n",
    "array([[0, 1, 2, 3, 4, 5]])\n",
    "array([[0],\n",
    "       [1],\n",
    "       [2],\n",
    "       [3],\n",
    "       [4],\n",
    "       [5]])\n",
    "```\n"
   ]
  },
  {
   "attachments": {},
   "cell_type": "markdown",
   "metadata": {},
   "source": [
    "下のコードは、複数特徴量がある場合に、one-hotエンコーディングをする特徴量を選択して変換できるやり方\n",
    "俺的にはこっちの方がありがたいかも"
   ]
  },
  {
   "cell_type": "code",
   "execution_count": 60,
   "metadata": {},
   "outputs": [
    {
     "data": {
      "text/html": [
       "<div>\n",
       "<style scoped>\n",
       "    .dataframe tbody tr th:only-of-type {\n",
       "        vertical-align: middle;\n",
       "    }\n",
       "\n",
       "    .dataframe tbody tr th {\n",
       "        vertical-align: top;\n",
       "    }\n",
       "\n",
       "    .dataframe thead th {\n",
       "        text-align: right;\n",
       "    }\n",
       "</style>\n",
       "<table border=\"1\" class=\"dataframe\">\n",
       "  <thead>\n",
       "    <tr style=\"text-align: right;\">\n",
       "      <th></th>\n",
       "      <th>price</th>\n",
       "      <th>size</th>\n",
       "      <th>color_blue</th>\n",
       "      <th>color_green</th>\n",
       "      <th>color_red</th>\n",
       "    </tr>\n",
       "  </thead>\n",
       "  <tbody>\n",
       "    <tr>\n",
       "      <th>0</th>\n",
       "      <td>10.1</td>\n",
       "      <td>1</td>\n",
       "      <td>0</td>\n",
       "      <td>1</td>\n",
       "      <td>0</td>\n",
       "    </tr>\n",
       "    <tr>\n",
       "      <th>1</th>\n",
       "      <td>13.5</td>\n",
       "      <td>2</td>\n",
       "      <td>0</td>\n",
       "      <td>0</td>\n",
       "      <td>1</td>\n",
       "    </tr>\n",
       "    <tr>\n",
       "      <th>2</th>\n",
       "      <td>15.3</td>\n",
       "      <td>3</td>\n",
       "      <td>1</td>\n",
       "      <td>0</td>\n",
       "      <td>0</td>\n",
       "    </tr>\n",
       "  </tbody>\n",
       "</table>\n",
       "</div>"
      ],
      "text/plain": [
       "   price  size  color_blue  color_green  color_red\n",
       "0   10.1     1           0            1          0\n",
       "1   13.5     2           0            0          1\n",
       "2   15.3     3           1            0          0"
      ]
     },
     "execution_count": 60,
     "metadata": {},
     "output_type": "execute_result"
    }
   ],
   "source": [
    "\"\"\"from sklearn.compose import ColumnTransformer\n",
    "X = df[['color', 'size', 'price']].values #valuesはnumpy配列に変換\n",
    "c_transf = ColumnTransformer([('onehot', OneHotEncoder(), [0]), \n",
    "                              ('nothing', 'passthrough', '[1, 2]')])#0列目のcolorをonehotエンコーディング、1,2列目のsize,priceはそのまま\n",
    "c_transf.fit_transform(X) #astype(float)はfloat型に変換\n",
    "\"\"\"\n",
    "#上はエラーが出るので、下のようにする\n",
    "# get_dummies関数は文字列値を持つ列のみをonehotエンコーディングできる\n",
    "pd.get_dummies(df[['price', 'color', 'size']]) #pandasのget_dummies関数でもonehotエンコーディングができる\n",
    "\n",
    "\n"
   ]
  },
  {
   "attachments": {},
   "cell_type": "markdown",
   "metadata": {},
   "source": [
    "one-hotエンコーディングは多重共線性を招き、正しい予測ができなくなる可能性もある。そんなときは特徴量を１つ削除し、相関を減らす。"
   ]
  },
  {
   "cell_type": "code",
   "execution_count": 61,
   "metadata": {},
   "outputs": [
    {
     "data": {
      "text/html": [
       "<div>\n",
       "<style scoped>\n",
       "    .dataframe tbody tr th:only-of-type {\n",
       "        vertical-align: middle;\n",
       "    }\n",
       "\n",
       "    .dataframe tbody tr th {\n",
       "        vertical-align: top;\n",
       "    }\n",
       "\n",
       "    .dataframe thead th {\n",
       "        text-align: right;\n",
       "    }\n",
       "</style>\n",
       "<table border=\"1\" class=\"dataframe\">\n",
       "  <thead>\n",
       "    <tr style=\"text-align: right;\">\n",
       "      <th></th>\n",
       "      <th>price</th>\n",
       "      <th>size</th>\n",
       "      <th>color_green</th>\n",
       "      <th>color_red</th>\n",
       "    </tr>\n",
       "  </thead>\n",
       "  <tbody>\n",
       "    <tr>\n",
       "      <th>0</th>\n",
       "      <td>10.1</td>\n",
       "      <td>1</td>\n",
       "      <td>1</td>\n",
       "      <td>0</td>\n",
       "    </tr>\n",
       "    <tr>\n",
       "      <th>1</th>\n",
       "      <td>13.5</td>\n",
       "      <td>2</td>\n",
       "      <td>0</td>\n",
       "      <td>1</td>\n",
       "    </tr>\n",
       "    <tr>\n",
       "      <th>2</th>\n",
       "      <td>15.3</td>\n",
       "      <td>3</td>\n",
       "      <td>0</td>\n",
       "      <td>0</td>\n",
       "    </tr>\n",
       "  </tbody>\n",
       "</table>\n",
       "</div>"
      ],
      "text/plain": [
       "   price  size  color_green  color_red\n",
       "0   10.1     1            1          0\n",
       "1   13.5     2            0          1\n",
       "2   15.3     3            0          0"
      ]
     },
     "execution_count": 61,
     "metadata": {},
     "output_type": "execute_result"
    }
   ],
   "source": [
    "pd.get_dummies(df[['price', 'color', 'size']], drop_first=True) #drop_first=Trueでダミー変数の最初の列を削除する"
   ]
  },
  {
   "attachments": {},
   "cell_type": "markdown",
   "metadata": {},
   "source": [
    "以降は、Wineデータセットを使用する"
   ]
  },
  {
   "cell_type": "code",
   "execution_count": 62,
   "metadata": {},
   "outputs": [
    {
     "name": "stdout",
     "output_type": "stream",
     "text": [
      "Class labels [1 2 3]\n"
     ]
    },
    {
     "data": {
      "text/html": [
       "<div>\n",
       "<style scoped>\n",
       "    .dataframe tbody tr th:only-of-type {\n",
       "        vertical-align: middle;\n",
       "    }\n",
       "\n",
       "    .dataframe tbody tr th {\n",
       "        vertical-align: top;\n",
       "    }\n",
       "\n",
       "    .dataframe thead th {\n",
       "        text-align: right;\n",
       "    }\n",
       "</style>\n",
       "<table border=\"1\" class=\"dataframe\">\n",
       "  <thead>\n",
       "    <tr style=\"text-align: right;\">\n",
       "      <th></th>\n",
       "      <th>Class label</th>\n",
       "      <th>Alcohol</th>\n",
       "      <th>Malic acid</th>\n",
       "      <th>Ash</th>\n",
       "      <th>Alcalinity of ash</th>\n",
       "      <th>Magnesium</th>\n",
       "      <th>Total phenols</th>\n",
       "      <th>Flavanoids</th>\n",
       "      <th>Nonflavanoid phenols</th>\n",
       "      <th>Proanthocyanins</th>\n",
       "      <th>Color intensity</th>\n",
       "      <th>Hue</th>\n",
       "      <th>OD280/OD315 of diluted wines</th>\n",
       "      <th>Proline</th>\n",
       "    </tr>\n",
       "  </thead>\n",
       "  <tbody>\n",
       "    <tr>\n",
       "      <th>0</th>\n",
       "      <td>1</td>\n",
       "      <td>14.23</td>\n",
       "      <td>1.71</td>\n",
       "      <td>2.43</td>\n",
       "      <td>15.6</td>\n",
       "      <td>127</td>\n",
       "      <td>2.80</td>\n",
       "      <td>3.06</td>\n",
       "      <td>0.28</td>\n",
       "      <td>2.29</td>\n",
       "      <td>5.64</td>\n",
       "      <td>1.04</td>\n",
       "      <td>3.92</td>\n",
       "      <td>1065</td>\n",
       "    </tr>\n",
       "    <tr>\n",
       "      <th>1</th>\n",
       "      <td>1</td>\n",
       "      <td>13.20</td>\n",
       "      <td>1.78</td>\n",
       "      <td>2.14</td>\n",
       "      <td>11.2</td>\n",
       "      <td>100</td>\n",
       "      <td>2.65</td>\n",
       "      <td>2.76</td>\n",
       "      <td>0.26</td>\n",
       "      <td>1.28</td>\n",
       "      <td>4.38</td>\n",
       "      <td>1.05</td>\n",
       "      <td>3.40</td>\n",
       "      <td>1050</td>\n",
       "    </tr>\n",
       "    <tr>\n",
       "      <th>2</th>\n",
       "      <td>1</td>\n",
       "      <td>13.16</td>\n",
       "      <td>2.36</td>\n",
       "      <td>2.67</td>\n",
       "      <td>18.6</td>\n",
       "      <td>101</td>\n",
       "      <td>2.80</td>\n",
       "      <td>3.24</td>\n",
       "      <td>0.30</td>\n",
       "      <td>2.81</td>\n",
       "      <td>5.68</td>\n",
       "      <td>1.03</td>\n",
       "      <td>3.17</td>\n",
       "      <td>1185</td>\n",
       "    </tr>\n",
       "    <tr>\n",
       "      <th>3</th>\n",
       "      <td>1</td>\n",
       "      <td>14.37</td>\n",
       "      <td>1.95</td>\n",
       "      <td>2.50</td>\n",
       "      <td>16.8</td>\n",
       "      <td>113</td>\n",
       "      <td>3.85</td>\n",
       "      <td>3.49</td>\n",
       "      <td>0.24</td>\n",
       "      <td>2.18</td>\n",
       "      <td>7.80</td>\n",
       "      <td>0.86</td>\n",
       "      <td>3.45</td>\n",
       "      <td>1480</td>\n",
       "    </tr>\n",
       "    <tr>\n",
       "      <th>4</th>\n",
       "      <td>1</td>\n",
       "      <td>13.24</td>\n",
       "      <td>2.59</td>\n",
       "      <td>2.87</td>\n",
       "      <td>21.0</td>\n",
       "      <td>118</td>\n",
       "      <td>2.80</td>\n",
       "      <td>2.69</td>\n",
       "      <td>0.39</td>\n",
       "      <td>1.82</td>\n",
       "      <td>4.32</td>\n",
       "      <td>1.04</td>\n",
       "      <td>2.93</td>\n",
       "      <td>735</td>\n",
       "    </tr>\n",
       "  </tbody>\n",
       "</table>\n",
       "</div>"
      ],
      "text/plain": [
       "   Class label  Alcohol  Malic acid   Ash  Alcalinity of ash  Magnesium  \\\n",
       "0            1    14.23        1.71  2.43               15.6        127   \n",
       "1            1    13.20        1.78  2.14               11.2        100   \n",
       "2            1    13.16        2.36  2.67               18.6        101   \n",
       "3            1    14.37        1.95  2.50               16.8        113   \n",
       "4            1    13.24        2.59  2.87               21.0        118   \n",
       "\n",
       "   Total phenols  Flavanoids  Nonflavanoid phenols  Proanthocyanins  \\\n",
       "0           2.80        3.06                  0.28             2.29   \n",
       "1           2.65        2.76                  0.26             1.28   \n",
       "2           2.80        3.24                  0.30             2.81   \n",
       "3           3.85        3.49                  0.24             2.18   \n",
       "4           2.80        2.69                  0.39             1.82   \n",
       "\n",
       "   Color intensity   Hue  OD280/OD315 of diluted wines  Proline  \n",
       "0             5.64  1.04                          3.92     1065  \n",
       "1             4.38  1.05                          3.40     1050  \n",
       "2             5.68  1.03                          3.17     1185  \n",
       "3             7.80  0.86                          3.45     1480  \n",
       "4             4.32  1.04                          2.93      735  "
      ]
     },
     "execution_count": 62,
     "metadata": {},
     "output_type": "execute_result"
    }
   ],
   "source": [
    "#df_wine = pd.read_csv('/Users/miyakyudai1928/python_flamework/機械学習/python_達人サイエンティスト/python-machine-learning-book-3rd-edition/ch04/wine.data', header = None)\n",
    "df_wine = pd.read_csv('https://archive.ics.uci.edu/ml/machine-learning-databases/wine/wine.data', header = None)\n",
    "#列名を指定, columnsは列名を指定する\n",
    "df_wine.columns = ['Class label', 'Alcohol', 'Malic acid', 'Ash', 'Alcalinity of ash', \n",
    "                'Magnesium', 'Total phenols', 'Flavanoids', 'Nonflavanoid phenols', \n",
    "                'Proanthocyanins', 'Color intensity', 'Hue', 'OD280/OD315 of diluted wines', 'Proline']\n",
    "#　クラスラベルを表示(uniqueで重複を除いた要素を取り出す)\n",
    "print('Class labels', np.unique(df_wine['Class label']))\n",
    "df_wine.head() #先頭5行を表示"
   ]
  },
  {
   "attachments": {},
   "cell_type": "markdown",
   "metadata": {},
   "source": [
    "```python\n",
    "from sklearn.model_selection import train_test_split\n",
    "```\n",
    "よく使うので覚える"
   ]
  },
  {
   "cell_type": "code",
   "execution_count": 63,
   "metadata": {},
   "outputs": [],
   "source": [
    "from sklearn.model_selection import train_test_split\n",
    "# valuesはnumpy配列に変換\n",
    "#　特徴量(X)とクラスラベル(y)を別々に抽出する\n",
    "X, y = df_wine.iloc[:, 1:].values, df_wine.iloc[:, 0].values #ilocは行番号を指定して抽出\n",
    "X_train, X_test, y_train, y_test = train_test_split(X, y, test_size=0.3, random_state=0, stratify=y) \n",
    "#stratify=yで層化抽出を行う\n",
    "\n"
   ]
  },
  {
   "attachments": {},
   "cell_type": "markdown",
   "metadata": {},
   "source": [
    "層化抽出とは、訓練セットとテストセットに含まれるクラスラベルの比率が、元のデータセットと同じになるようにすること"
   ]
  },
  {
   "attachments": {},
   "cell_type": "markdown",
   "metadata": {},
   "source": [
    "ここから、特徴量のスケーリングをしていく。スケーリングとは、`特徴量の尺度を揃える`こと。機械学習アルゴリズムにおいて、特徴量Aが1~10の値をとり、特徴量Bが1~10000の値を取る場合、尺度を揃えた方が遥かにうまく動作する。正規化は[0, 1]の範囲にスケーリングする。min-maxスケーリングと呼ばれる"
   ]
  },
  {
   "cell_type": "code",
   "execution_count": 64,
   "metadata": {},
   "outputs": [],
   "source": [
    "from sklearn.preprocessing import MinMaxScaler\n",
    "# MinMaxScalerのインスタンスを生成\n",
    "nms = MinMaxScaler()\n",
    "# 訓練データをスケーリング\n",
    "X_train_norm = nms.fit_transform(X_train)\n",
    "X_test_norm = nms.fit_transform(X_test)"
   ]
  },
  {
   "attachments": {},
   "cell_type": "markdown",
   "metadata": {},
   "source": [
    "実際に多くの機械学習で実用的なのが`標準化`である。標準化とは、平均値0, 標準偏差が1になるように変換する。正規分布に従うため、重みを学習しやすくなる。\n",
    "要は、学習しやすくするために正規化するってこと"
   ]
  },
  {
   "cell_type": "code",
   "execution_count": 65,
   "metadata": {},
   "outputs": [],
   "source": [
    "# min-maxスケーリング同様、preprocessingモジュールのStandardScalerクラスによって標準化が実装されている\n",
    "from sklearn.preprocessing import StandardScaler\n",
    "stdsc = StandardScaler()\n",
    "X_train_std = stdsc.fit_transform(X_train)\n",
    "X_test_std = stdsc.fit_transform(X_test)\n"
   ]
  },
  {
   "attachments": {},
   "cell_type": "markdown",
   "metadata": {},
   "source": [
    "#### L1/L2正則化\n",
    "モデルが訓練データにパラメータを適合させすぎてしまうと、未知のデータに対応できない(過学習)\n",
    "この複雑さを軽減するのが`L1/L2正則化`\n",
    "大きな重みにペナルティを課すことによって、モデルの複雑さを低減する。\n",
    "簡単に２つの正則化の違いをまとめると\n",
    "|  L1  |  L2  |\n",
    "| ---- | ---- |\n",
    "|  特徴量の一部が0になり、疎なモデルが作れる  |  特徴量を均等に扱う。平滑なモデルができる  |\n",
    "|  一部を0にするので、ハズレ値の影響はあまり受けない。  |  ハズレ値に敏感  |\n",
    "\n",
    "以下はL1正則化の実装\n"
   ]
  },
  {
   "cell_type": "code",
   "execution_count": 66,
   "metadata": {},
   "outputs": [
    {
     "name": "stdout",
     "output_type": "stream",
     "text": [
      "Training accuracy: 1.0\n",
      "Test accuracy: 1.0\n"
     ]
    }
   ],
   "source": [
    "from sklearn.linear_model import LogisticRegression\n",
    "# L1正則化を使用したロジスティック回帰のインスタンスを生成\n",
    "lr = LogisticRegression(penalty = 'l1',C=1.0, solver = 'liblinear', multi_class = 'ovr')\n",
    "# solverは最適化アルゴリズムを指定する, liblinearは小規模なデータセットに適している\n",
    "lr.fit(X_train_std, y_train)\n",
    "# 訓練データに対する正解率を表示\n",
    "print('Training accuracy:', lr.score(X_train_std, y_train))\n",
    "# テストデータに対する正解率を表示\n",
    "print('Test accuracy:', lr.score(X_test_std, y_test))\n"
   ]
  },
  {
   "cell_type": "code",
   "execution_count": 67,
   "metadata": {},
   "outputs": [
    {
     "name": "stdout",
     "output_type": "stream",
     "text": [
      "[-1.26332294 -1.21593691 -2.37016233]\n"
     ]
    },
    {
     "data": {
      "text/plain": [
       "array([[ 1.24558961,  0.18110965,  0.74277274, -1.1602108 ,  0.        ,\n",
       "         0.        ,  1.17430295,  0.        ,  0.        ,  0.        ,\n",
       "         0.        ,  0.54261912,  2.51093521],\n",
       "       [-1.53715182, -0.38706402, -0.99530712,  0.36504064, -0.05945399,\n",
       "         0.        ,  0.66799769,  0.        ,  0.        , -1.93404115,\n",
       "         1.23365581,  0.        , -2.23177752],\n",
       "       [ 0.13523486,  0.16954869,  0.35806555,  0.        ,  0.        ,\n",
       "         0.        , -2.4319643 ,  0.        ,  0.        ,  1.56209957,\n",
       "        -0.81900635, -0.49695185,  0.        ]])"
      ]
     },
     "execution_count": 67,
     "metadata": {},
     "output_type": "execute_result"
    }
   ],
   "source": [
    "print(lr.intercept_) #切片\n",
    "\n",
    "lr.coef_ #重み係数, 一対他法を使用しているので、3行13列の重み係数が得られる"
   ]
  },
  {
   "attachments": {},
   "cell_type": "markdown",
   "metadata": {},
   "source": [
    "L1正則化をより強めるには、パラメータCをもっと小さくする。以下は、パラメータCの値に応じて各特徴量の重みがどのように軽減されていくかを可視化したものである。"
   ]
  },
  {
   "cell_type": "code",
   "execution_count": 79,
   "metadata": {},
   "outputs": [
    {
     "data": {
      "image/png": "[encoded data removed]",
      "text/plain": [
       "<Figure size 640x480 with 1 Axes>"
      ]
     },
     "metadata": {},
     "output_type": "display_data"
    }
   ],
   "source": [
    "import matplotlib.pyplot as plt\n",
    "fig = plt.figure() #figure()でグラフを描画するためのキャンバスを作成\n",
    "ax = plt.subplot(111) #subplot()でキャンバスにグラフを描画するための領域を作成, 111は1行1列の1番目の領域\n",
    "# 各係数の色を決める(13個)\n",
    "colors = ['blue', 'green', 'red', 'cyan', 'magenta', 'yellow',\n",
    "        'black', 'pink', 'lightgreen', 'lightblue', 'gray', 'indigo', 'orange']\n",
    "# 空のリストを用意\n",
    "weights, params = [], []\n",
    "#逆正則化パラメータCを10^-4から10^6まで変化させながら、ロジスティック回帰モデルを学習\n",
    "for c in np.arange(-4., 6.):\n",
    "    lr = LogisticRegression(penalty ='l1', C=10**c, random_state=0, \n",
    "                            solver = 'liblinear', multi_class = 'ovr')\n",
    "    lr.fit(X_train_std, y_train)\n",
    "    weights.append(lr.coef_[1]) #coef_[1]は重み係数の2行目を取り出す\n",
    "    params.append(10**c) #paramsに逆正則化パラメータCを追加\n",
    "\n",
    "# 重み係数をNumPy配列に変換\n",
    "weights =np.array(weights)\n",
    "# 重み係数をプロット\n",
    "for column, color in zip(range(weights.shape[1]), colors): #12回ループして各特徴量のグラフを描画\n",
    "    #zipで複数のリストを同時にループ処理, shape[1]は列数を取得(12個)\n",
    "    plt.plot(params, weights[:, column], label = df_wine.columns[column+1], color = color)\n",
    "    # column+1は1列目はClass labelなので、2列目から13列目までをプロット\n",
    "\n",
    "plt.axhline(0, color = 'black', linestyle = '--', linewidth = 3) #水平線を描画\n",
    "plt.xlim([10**(-5), 10**5]) #x軸の範囲を指定\n",
    "# 軸ラベルの設定\n",
    "plt.ylabel(\"weight coefficient\") #重み係数\n",
    "plt.xlabel(\"C\")\n",
    "# 横軸を対数スケールに設定\n",
    "plt.xscale('log')\n",
    "#plt.legend(loc = 'upper left') #凡例を左上に表示\n",
    "ax.legend(loc = 'upper left', bbox_to_anchor = (1., 1.03), ncol = 2, fancybox = True)\n",
    "# bbox_to_anchorで凡例の位置を調整, ncolで列数を指定, fancyboxで凡例の枠を丸くする\n",
    "#ax.legendは\n",
    "# グラフを表示\n",
    "plt.show()\n",
    "\n"
   ]
  },
  {
   "attachments": {},
   "cell_type": "markdown",
   "metadata": {},
   "source": [
    "#### わかった!\n",
    "凡例表示のplt.legendは、まず、グラフの左下が(0, 0), 右上が(1, 1)になってる。で、bbox_to_anchorは細かく座標を指定して、その座標を凡例のどこに合わせるかをlocで指定する。上の例だと、bbox_to_anchor = (1., 1.03)で指定した座標に、loc = 'upper left'だから左上端を合わせている。//"
   ]
  },
  {
   "attachments": {},
   "cell_type": "markdown",
   "metadata": {},
   "source": [
    "#### モデルの複雑さの低減その１ 特徴量選択\n"
   ]
  },
  {
   "attachments": {},
   "cell_type": "markdown",
   "metadata": {},
   "source": [
    "`特徴量選択`は、問題に最も関係のある特徴量の部分集合を選択する。こうすることで計算効率が改善される。また、`無関係の特徴量を取り除く`ことで、汎化誤差を減らす。"
   ]
  },
  {
   "attachments": {},
   "cell_type": "markdown",
   "metadata": {},
   "source": [
    "これから実装するのは、`逐次後退選択`という通称SBSとよばれる特徴量選択アルゴリズムである。\n"
   ]
  },
  {
   "cell_type": "code",
   "execution_count": 69,
   "metadata": {},
   "outputs": [
    {
     "data": {
      "text/plain": [
       "<matplotlib.image.AxesImage at 0x12d5af7f0>"
      ]
     },
     "execution_count": 69,
     "metadata": {},
     "output_type": "execute_result"
    },
    {
     "data": {
      "image/png": "[encoded data removed]",
      "text/plain": [
       "<Figure size 640x480 with 1 Axes>"
      ]
     },
     "metadata": {},
     "output_type": "display_data"
    }
   ],
   "source": [
    "#アルゴリズムについての図を表示\n",
    "import matplotlib.pyplot as plt\n",
    "import matplotlib.image as mpimg\n",
    "plt.imshow(mpimg.imread(\"alg.png\"))\n"
   ]
  },
  {
   "attachments": {},
   "cell_type": "markdown",
   "metadata": {},
   "source": [
    "argmaxとは、最大値のインデックスを返す。つまり、全特徴量空間Xkの中から、`ある特徴量を削除したときに性能の低下が最も少ない特徴量`を選択する。以下はSBSのコード"
   ]
  },
  {
   "cell_type": "code",
   "execution_count": 70,
   "metadata": {},
   "outputs": [],
   "source": [
    "from sklearn.base import clone\n",
    "from itertools import combinations\n",
    "import numpy as np\n",
    "from sklearn.metrics import accuracy_score\n",
    "from sklearn.model_selection import train_test_split\n",
    "\n",
    "class SBS():\n",
    "    \n",
    "    def __init__(self, estimator, k_features, scoring = accuracy_score, test_size = 0.25, random_state = 1):\n",
    "        self.scoring = scoring #accuracy_scoreを指定, accuracy_scoreは正解率を計算する関数\n",
    "        self.estimator = clone(estimator) #cloneはestimatorのコピーを作成する関数\n",
    "        self.k_features = k_features #選択する特徴量の個数\n",
    "        self.test_size = test_size #テストデータの割合\n",
    "        self.random_state = random_state #乱数の種\n",
    "    \n",
    "    def fit(self, X, y):\n",
    "        # 訓練データとテストデータに分割\n",
    "        X_train, X_test, y_train, y_test = train_test_split(X, y, test_size = self.test_size, random_state = self.random_state)\n",
    "        dim = X_train.shape[1] #shape[1]は列数を取得\n",
    "        self.indices_ = tuple(range(dim)) #特徴量の列インデックスをタプルに格納、例えば(0,1,2,3,4,5,6,7,8,9,10,11,12)、タプルとは変更不可なリスト\n",
    "        self.subsets_ = [self.indices_] #特徴量の列インデックスをリストに格納　例えば[(0,1,2,3,4,5,6,7,8,9,10,11,12)]\n",
    "        # 訓練データに対するスコアを計算\n",
    "        score = self._calc_score(X_train, y_train, X_test, y_test, self.indices_)\n",
    "        self.scores_ = [score] #スコアをリストに格納\n",
    "        # 指定した特徴量の個数になるまでループ\n",
    "        while dim > self.k_features:\n",
    "            \n",
    "            scores = [] #各部分特徴量集合に対するスコアを格納するリスト\n",
    "            subsets = [] #各部分特徴量集合を格納するリスト\n",
    "\n",
    "            # 特徴量の部分集合を生成\n",
    "            for p in combinations(self.indices_, r = dim - 1): #combinationsは組み合わせを生成する関数, rは組み合わせの個数。例:(0,1,2,3,4,5,6,7,8,9,10,11,12)から3つ選ぶ場合は、(0,1,2),(0,1,3),(0,1,4)…(10,11,12)の組み合わせが生成される\n",
    "                # 訓練データに対するスコアを計算\n",
    "                score = self._calc_score(X_train, y_train, X_test, y_test, p) #\n",
    "                scores.append(score) #スコアをリストに格納\n",
    "                subsets.append(p) #特徴量の列集合インデックスをリストに格納、\n",
    "            \n",
    "            # スコアが最も高かった部分集合を選択、スコアが高いとは、１つ特徴量を減らしても正解率が高いことを意味する\n",
    "            best = np.argmax(scores) #np.argmaxは配列の最大値のインデックスを取得する関数、例えば[1,2,3,4,5]の場合はindex4の値が最大値なので、インデックスは4を返す\n",
    "            self.indices_ = subsets[best] #特徴量の列集合インデックスを更新\n",
    "            self.subsets_.append(self.indices_) #特徴量の列インデックスをリストに格納\n",
    "            dim -= 1 #特徴量の個数を1つ減らす\n",
    "            self.scores_.append(scores[best]) #スコアをリストに格納\n",
    "        \n",
    "        self.k_score_ = self.scores_[-1] #最後のスコアを取得\n",
    "        return self\n",
    "    \n",
    "    # 指定した特徴量の列インデックスを指定して特徴量を抽出する関数\n",
    "    def transform(self, X):\n",
    "        return X[:, self.indices_] #特徴量の列インデックスを指定して特徴量を抽出\n",
    "    \n",
    "    # 正解率を計算する関数\n",
    "    def _calc_score(self, X_train, y_train, X_test, y_test, indices):\n",
    "        self.estimator.fit(X_train[:, indices], y_train) #指定された特徴量の列インデックスを指定して訓練データを学習\n",
    "        y_pred = self.estimator.predict(X_test[:, indices]) #指定された特徴量の列インデックスを指定してテストデータを予測\n",
    "        score = self.scoring(y_test, y_pred) #真のラベルと予測結果を指定してスコアを計算、scoringはaccuracy_score 正解率を計算\n",
    "        return score\n",
    "    \n",
    "\n",
    "\n",
    "\n",
    "\n"
   ]
  },
  {
   "cell_type": "code",
   "execution_count": 71,
   "metadata": {},
   "outputs": [
    {
     "data": {
      "text/plain": [
       "<__main__.SBS at 0x12c504d60>"
      ]
     },
     "execution_count": 71,
     "metadata": {},
     "output_type": "execute_result"
    }
   ],
   "source": [
    "from sklearn.neighbors import KNeighborsClassifier\n",
    "import matplotlib.pyplot as plt\n",
    "knn = KNeighborsClassifier(n_neighbors = 2) # モデルとしてk最近傍法を使用\n",
    "sbs = SBS(knn, k_features = 1) #特徴量を1つにするまで特徴量を減らしていく\n",
    "sbs.fit(X_train_std, y_train) #訓練データを学習する。ここでは訓練データを引数に与えることで、訓練データを新たに訓練データと検証データに分割している。より汎化性能を高めるために行っている。"
   ]
  },
  {
   "cell_type": "code",
   "execution_count": 72,
   "metadata": {},
   "outputs": [
    {
     "name": "stdout",
     "output_type": "stream",
     "text": [
      "[(0, 1, 2, 3, 4, 5, 6, 7, 8, 9, 10, 11, 12), (0, 1, 2, 3, 4, 5, 6, 7, 8, 9, 10, 11), (0, 2, 3, 4, 5, 6, 7, 8, 9, 10, 11), (0, 3, 4, 5, 6, 7, 8, 9, 10, 11), (0, 3, 4, 5, 6, 7, 8, 9, 11), (0, 3, 4, 5, 6, 7, 8, 11), (0, 3, 4, 5, 6, 7, 11), (0, 3, 4, 5, 6, 11), (0, 3, 4, 5, 6), (0, 3, 4, 5), (0, 4, 5), (0, 5), (0,)]\n",
      "[13, 12, 11, 10, 9, 8, 7, 6, 5, 4, 3, 2, 1]\n",
      "[0.9354838709677419, 0.9354838709677419, 0.967741935483871, 1.0, 1.0, 1.0, 1.0, 1.0, 0.967741935483871, 0.9354838709677419, 0.8709677419354839, 0.8387096774193549, 0.6774193548387096]\n"
     ]
    },
    {
     "data": {
      "image/png": "[encoded data removed]",
      "text/plain": [
       "<Figure size 640x480 with 1 Axes>"
      ]
     },
     "metadata": {},
     "output_type": "display_data"
    }
   ],
   "source": [
    "# 特徴量の個数とスコアをプロット\n",
    "print(sbs.subsets_)\n",
    "k_feat = [len(k) for k in sbs.subsets_] #sbs.subsets_の各要素を取得して,kに格納し、kの長さを取得してリストに格納\n",
    "print(k_feat)\n",
    "print(sbs.scores_)\n",
    "plt.plot(k_feat, sbs.scores_, marker = 'o') #特徴量の個数とスコアをプロット\n",
    "plt.ylim([0.7, 1.02]) #y軸の範囲を指定\n",
    "plt.ylabel('Accuracy') #y軸のラベルを指定\n",
    "plt.xlabel('Number of features') #x軸のラベルを指定\n",
    "plt.grid() #グリッドを表示\n",
    "plt.tight_layout() #グラフのレイアウトを調整\n",
    "plt.show() #グラフを表示\n",
    "\n"
   ]
  },
  {
   "attachments": {},
   "cell_type": "markdown",
   "metadata": {},
   "source": [
    "実際に特徴量6で正解率100%となっている特徴量部分集合を確認する。"
   ]
  },
  {
   "cell_type": "code",
   "execution_count": 73,
   "metadata": {},
   "outputs": [
    {
     "name": "stdout",
     "output_type": "stream",
     "text": [
      "Index(['Alcohol', 'Alcalinity of ash', 'Magnesium', 'Total phenols',\n",
      "       'Flavanoids', 'OD280/OD315 of diluted wines'],\n",
      "      dtype='object')\n"
     ]
    }
   ],
   "source": [
    "k6 = list(sbs.subsets_[7])\n",
    "print(df_wine.columns[1:][k6])\n"
   ]
  },
  {
   "attachments": {},
   "cell_type": "markdown",
   "metadata": {},
   "source": [
    "ここでKNN分類器の精度を確認する。"
   ]
  },
  {
   "cell_type": "code",
   "execution_count": 74,
   "metadata": {},
   "outputs": [
    {
     "name": "stdout",
     "output_type": "stream",
     "text": [
      "訓練データの正解率: 0.9596774193548387\n",
      "テストデータの正解率: 1.0\n"
     ]
    }
   ],
   "source": [
    "# 13個の特徴量全てを使ったモデルの正解率を計算\n",
    "knn.fit(X_train_std, y_train) #訓練データを学習してモデルを作成\n",
    "\n",
    "print('訓練データの正解率:', knn.score(X_train_std, y_train))\n",
    "print('テストデータの正解率:', knn.score(X_test_std, y_test))"
   ]
  },
  {
   "cell_type": "code",
   "execution_count": 75,
   "metadata": {},
   "outputs": [
    {
     "name": "stdout",
     "output_type": "stream",
     "text": [
      "訓練データの正解率: 0.9596774193548387\n",
      "テストデータの正解率: 0.8888888888888888\n"
     ]
    }
   ],
   "source": [
    "# 6この特徴量を使ったモデルの正解率を計算\n",
    "knn.fit(X_train_std[:, k6], y_train) #訓練データを学習してモデルを作成\n",
    "\n",
    "print('訓練データの正解率:', knn.score(X_train_std[:, k6], y_train))\n",
    "print('テストデータの正解率:', knn.score(X_test_std[:, k6], y_test))"
   ]
  },
  {
   "attachments": {},
   "cell_type": "markdown",
   "metadata": {},
   "source": [
    "今回はデータセットが小さいため、ランダム性の影響を受けやすい状況だったということが挙げられる。しかし、より大きなデータセットであれば、特徴量の個数を減らしても解釈しやすい単純なモデルが得られるであろう。"
   ]
  },
  {
   "attachments": {},
   "cell_type": "markdown",
   "metadata": {},
   "source": [
    "#### ●ランダムフォレストで`特徴量の重要度`を評価する\n"
   ]
  },
  {
   "attachments": {},
   "cell_type": "markdown",
   "metadata": {},
   "source": [
    "ランダムフォレスト内の全ての決定木から計算された不純度の`平均的な減少量`を用いて、特徴量の重要度を評価する。次のコードでWineデータセットで500本の決定木を訓練し、それぞれの特徴量の重要度を計算する。"
   ]
  },
  {
   "attachments": {},
   "cell_type": "markdown",
   "metadata": {},
   "source": [
    "ツリーベースのアルゴリズムは、`特徴量のスケールに影響を受けない`。なので、特徴量のスケーリングは不要である。"
   ]
  },
  {
   "attachments": {},
   "cell_type": "markdown",
   "metadata": {},
   "source": [
    "```python\n",
    "print(\"%2d) %-*s %f\" % (f + 1, 30, feat_labels[indices[f]], importances[indices[f]])) \n",
    "```\n",
    "このコードにおける`%-*s`の部分は、まず%-が左揃えであり、*は幅を指定する。なのでそこに対して30という幅を指定している。"
   ]
  },
  {
   "cell_type": "code",
   "execution_count": 76,
   "metadata": {},
   "outputs": [
    {
     "name": "stdout",
     "output_type": "stream",
     "text": [
      "Index(['Alcohol', 'Malic acid', 'Ash', 'Alcalinity of ash', 'Magnesium',\n",
      "       'Total phenols', 'Flavanoids', 'Nonflavanoid phenols',\n",
      "       'Proanthocyanins', 'Color intensity', 'Hue',\n",
      "       'OD280/OD315 of diluted wines', 'Proline'],\n",
      "      dtype='object')\n",
      "\n",
      "indexを重要度の降順に [12  6  9 11  0 10  5  4  1  8  3  7  2]\n",
      "\n",
      "\n",
      " 1) Proline                        0.185453\n",
      " 2) Flavanoids                     0.174751\n",
      " 3) Color intensity                0.143920\n",
      " 4) OD280/OD315 of diluted wines   0.136162\n",
      " 5) Alcohol                        0.118529\n",
      " 6) Hue                            0.058739\n",
      " 7) Total phenols                  0.050872\n",
      " 8) Magnesium                      0.031357\n",
      " 9) Malic acid                     0.025648\n",
      "10) Proanthocyanins                0.025570\n",
      "11) Alcalinity of ash              0.022366\n",
      "12) Nonflavanoid phenols           0.013354\n",
      "13) Ash                            0.013279\n"
     ]
    },
    {
     "data": {
      "image/png": "[encoded data removed]",
      "text/plain": [
       "<Figure size 640x480 with 1 Axes>"
      ]
     },
     "metadata": {},
     "output_type": "display_data"
    }
   ],
   "source": [
    "from sklearn.ensemble import RandomForestClassifier\n",
    "feat_labels = df_wine.columns[1:] #特徴量の列名を取得\n",
    "print(feat_labels)\n",
    "# ランダムフォレストオブジェクトを生成する(決定木の個数500)\n",
    "forest = RandomForestClassifier(n_estimators=500, random_state=1)\n",
    "forest.fit(X_train, y_train) #訓練データを学習してモデルを作成\n",
    "\n",
    "#importancesは重要度が格納される配列\n",
    "importances = forest.feature_importances_ #feature_importances_は特徴量の重要度を取得する関数。合計が1になるように正規化されている。\n",
    "# 重要度の降順で特徴量のインデックスを取得\n",
    "indices = np.argsort(importances)[::-1]  #np.argsortは配列を昇順にソートしたときのインデックスを取得する関数。[::-1]は逆順にする関数\n",
    "#つまり、重要度の降順で特徴量のインデックスを取得\n",
    "\n",
    "print('\\nindexを重要度の降順に', indices) #debug\n",
    "print('\\n') #debug\n",
    "# 重要度の降順で特徴量の名前と重要度を表示\n",
    "for f in range(X_train.shape[1]): #X_train.shape[1]は特徴量の個数\n",
    "    print(\"%2d) %-*s %f\" % (f + 1, 30, feat_labels[indices[f]], importances[indices[f]])) \n",
    "\n",
    "plt.title('Feature Importance')\n",
    "plt.bar(range(X_train.shape[1]), importances[indices], align='center') #棒グラフを表示\n",
    "plt.xticks(range(X_train.shape[1]), feat_labels[indices], rotation=90) #x軸のラベルを表示\n",
    "plt.xlim([-1, X_train.shape[1]]) #x軸の範囲を指定\n",
    "plt.tight_layout() #グラフのレイアウトを調整\n",
    "plt.show() #グラフを表示"
   ]
  }
 ],
 "metadata": {
  "kernelspec": {
   "display_name": "Python 3",
   "language": "python",
   "name": "python3"
  },
  "language_info": {
   "codemirror_mode": {
    "name": "ipython",
    "version": 3
   },
   "file_extension": ".py",
   "mimetype": "text/x-python",
   "name": "python",
   "nbconvert_exporter": "python",
   "pygments_lexer": "ipython3",
   "version": "3.8.9"
  },
  "orig_nbformat": 4
 },
 "nbformat": 4,
 "nbformat_minor": 2
}
