{
 "cells": [
  {
   "attachments": {},
   "cell_type": "markdown",
   "metadata": {},
   "source": [
    "### scikit-learnは２章で考えたパーセプトロンやADALINEなどをユーザフレンドリーなAPIを使って実装できるプログラム"
   ]
  },
  {
   "attachments": {},
   "cell_type": "markdown",
   "metadata": {},
   "source": [
    "irisのデータセットは人気のデータセットゆえにこのライブラリに組み込まれている"
   ]
  },
  {
   "attachments": {},
   "cell_type": "markdown",
   "metadata": {},
   "source": [
    "iris = [がく片の長さ, がく片の幅, 花びらの長さ, 花びらの幅]"
   ]
  },
  {
   "cell_type": "code",
   "execution_count": 2,
   "metadata": {},
   "outputs": [
    {
     "name": "stdout",
     "output_type": "stream",
     "text": [
      "クラスラベル: [0 1 2]\n"
     ]
    }
   ],
   "source": [
    "from sklearn import datasets\n",
    "import numpy as np\n",
    "iris = datasets.load_iris()\n",
    "\"\"\"行は指定せず列を指定、今回は花びらの長さと花びらの幅を算出\"\"\"\n",
    "X = iris.data[:, [2, 3]]\n",
    "#iris.targetでクラスラベルを取得\n",
    "Y = iris.target\n",
    "print(\"クラスラベル:\", np.unique(Y))"
   ]
  },
  {
   "cell_type": "code",
   "execution_count": 3,
   "metadata": {},
   "outputs": [],
   "source": [
    "from sklearn.model_selection import train_test_split\n",
    "#訓練データとテストデータに分割\n",
    "#全体の30%をテストデータにする\n",
    "\"\"\"\n",
    "stratifyにクラスラベルYを設定するとデータセットの特性を考慮して分割させることができる\n",
    "つまり、訓練サブセットとテストサブセットに含まれるクラスラベルの比率が入力データセットと同じになる\n",
    "\"\"\"\n",
    "X_train, X_test, y_train, y_test = train_test_split(\n",
    "    X, Y, test_size = 0.3, random_state=1, stratify=Y\n",
    ")"
   ]
  },
  {
   "attachments": {},
   "cell_type": "markdown",
   "metadata": {},
   "source": [
    "特徴量をスケーリングする\n",
    "勾配降下法は特徴量のスケーリングの恩恵を受ける\n",
    "データセットに標準正規分布の0平均と単位分散という特性が与えられる。N(0, 1)ってやつ\n",
    "手法としては、各特徴量の平均をずらして中身が0になるようにし、標準偏差を１にする\n",
    "``\n",
    "x' = (x - μ)/δ\n",
    "``"
   ]
  },
  {
   "cell_type": "code",
   "execution_count": 4,
   "metadata": {},
   "outputs": [],
   "source": [
    "from sklearn.preprocessing import StandardScaler\n",
    "\"\"\"特徴量を標準化する\"\"\"\n",
    "sc = StandardScaler()\n",
    "\"\"\"訓練データの平均と標準偏差を計算\"\"\"\n",
    "sc.fit(X_train)\n",
    "\"\"\"\n",
    "平均と標準偏差を用いて標準化\n",
    "transformメソッドはfitメソッドで推定した平均値パラメタと標準偏差パラメタを使って訓練データを標準化する。\n",
    "テストデータも標準化する(下)\n",
    "\"\"\"\n",
    "X_train_std = sc.transform(X_train)\n",
    "X_test_std = sc.transform(X_test)\n"
   ]
  },
  {
   "cell_type": "code",
   "execution_count": 5,
   "metadata": {},
   "outputs": [
    {
     "data": {
      "text/plain": [
       "Perceptron(eta0=0.01, random_state=1)"
      ]
     },
     "execution_count": 5,
     "metadata": {},
     "output_type": "execute_result"
    }
   ],
   "source": [
    "from sklearn.linear_model import Perceptron\n",
    "#パーセプトロンのインスタンス作成(ライブラリから)\n",
    "ppn  = Perceptron(eta0 = 0.01, random_state=1) #random_stateを1にすることで、エポックごとに訓練データセットの並び替えが再現できるようになる\n",
    "ppn.fit(X_train_std, y_train)\n"
   ]
  },
  {
   "attachments": {},
   "cell_type": "markdown",
   "metadata": {},
   "source": [
    "訓練データを学習させた後は、テストデータで予測を実施しないといけない。\n",
    "\n"
   ]
  },
  {
   "attachments": {},
   "cell_type": "markdown",
   "metadata": {},
   "source": [
    "テストデータセットに対して正しく分類がなされると、訓練データを有効に学習させることができたと考えられる。"
   ]
  },
  {
   "attachments": {},
   "cell_type": "markdown",
   "metadata": {},
   "source": [
    "その際に使われる指標が`誤分類率`である。正解率 = 1 - `誤分類率`"
   ]
  },
  {
   "cell_type": "code",
   "execution_count": 6,
   "metadata": {},
   "outputs": [
    {
     "name": "stdout",
     "output_type": "stream",
     "text": [
      "誤分類: 2 \n"
     ]
    }
   ],
   "source": [
    "\"\"\"テストデータで予測、predictメソッドを使用\"\"\"\n",
    "y_pred = ppn.predict(X_test_std)\n",
    "\"\"\"誤分類のデータ点の個数を表示\"\"\"\n",
    "print(\"誤分類: %d \" % (y_test != y_pred).sum()) #pythonでもprintfもどきができる ,を%にすればいい"
   ]
  },
  {
   "attachments": {},
   "cell_type": "markdown",
   "metadata": {},
   "source": [
    "scikit-learnの性能指標計算モジュールmetricsで正解率を計算"
   ]
  },
  {
   "cell_type": "code",
   "execution_count": 7,
   "metadata": {},
   "outputs": [
    {
     "name": "stdout",
     "output_type": "stream",
     "text": [
      "正解率: 0.955556\n"
     ]
    }
   ],
   "source": [
    "from sklearn.metrics import accuracy_score\n",
    "#分類の正解率を表示\n",
    "print(\"正解率: %3f\" % accuracy_score(y_test, y_pred))"
   ]
  },
  {
   "cell_type": "code",
   "execution_count": 8,
   "metadata": {},
   "outputs": [],
   "source": [
    "from matplotlib.colors import ListedColormap\n",
    "import matplotlib.pyplot as plt\n",
    "#２次元のデータセットの決定境界を可視化する関数\n",
    "\n",
    "def plot_decision_regions(X, y, classifier, test_idx=None, resolution=0.02):\n",
    "\n",
    "    # マーカーとカラーマップの準備\n",
    "    markers = ('s', 'x', 'o', '^', 'v')\n",
    "    colors = ('red', 'blue', 'lightgreen', 'gray', 'cyan')\n",
    "    cmap = ListedColormap(colors[:len(np.unique(y))]) #a = [0, 0, 20, 30, 10, 10]でnp.unique(a) >>> [0, 10, 20, 30] uniqueってのは重複は数えん\n",
    "\n",
    "    # 決定領域をプロット\n",
    "    x1_min, x1_max = X[:, 0].min() - 1, X[:, 0].max() + 1\n",
    "    x2_min, x2_max = X[:, 1].min() - 1, X[:, 1].max() + 1\n",
    "    #グリッドポイントの生成\n",
    "    xx1, xx2 = np.meshgrid(np.arange(x1_min, x1_max, resolution),\n",
    "                           np.arange(x2_min, x2_max, resolution))#グリッドポイントとは、一定の間隔で点を配置した座標の集合()\n",
    "    #各特徴量を１次元配列に変換して予測を実行\n",
    "    Z = classifier.predict(np.array([xx1.ravel(), xx2.ravel()]).T) #.Tは転置, .ravelは多次元配列を一次元にする\n",
    "    #予測結果を元のグリッドポイントのデータサイズに変換(2次元に変換)\n",
    "    Z = Z.reshape(xx1.shape)\n",
    "    plt.contourf(xx1, xx2, Z, alpha=0.3, cmap=cmap) #contourf(格子点のx座標の配列, 格子点のy座標の配列, 値の配列)\n",
    "    plt.xlim(xx1.min(), xx1.max()) #x軸の表示範囲を設定\n",
    "    plt.ylim(xx2.min(), xx2.max()) #y軸の表示範囲を設定\n",
    "\n",
    "    # plot class examples\n",
    "    for idx, cl in enumerate(np.unique(y)): #enumerateはインデックスと要素の２つを取るidx -> 0, cl -> -1より colors[idx]は赤\n",
    "        plt.scatter(x=X[y == cl, 0], \n",
    "                    y=X[y == cl, 1],\n",
    "                    alpha=0.8, \n",
    "                    c=colors[idx],\n",
    "                    marker=markers[idx], \n",
    "                    label=cl, \n",
    "                    edgecolor='black')\n",
    "    \"\"\"テストデータ点を目立たせる(点を○で表示)\"\"\"\n",
    "    if test_idx:\n",
    "        #全てのデータ点をプロット\n",
    "        X_test, y_test = X[test_idx, :], y[test_idx]\n",
    "        plt.scatter(X_test[:, 0], X_test[:, 1], c = \" \", edgecolor= \"black\", \n",
    "                    alpha=1.0, linewidth=1, marker=\"o\", s=100, label=\"test set\")"
   ]
  },
  {
   "cell_type": "code",
   "execution_count": 9,
   "metadata": {},
   "outputs": [
    {
     "name": "stderr",
     "output_type": "stream",
     "text": [
      "/var/folders/64/qzdb2kkj5c7934_prcdj4xvr0000gn/T/ipykernel_71109/3351863578.py:28: UserWarning: You passed a edgecolor/edgecolors ('black') for an unfilled marker ('x').  Matplotlib is ignoring the edgecolor in favor of the facecolor.  This behavior may change in the future.\n",
      "  plt.scatter(x=X[y == cl, 0],\n"
     ]
    },
    {
     "ename": "ValueError",
     "evalue": "'c' argument must be a color, a sequence of colors, or a sequence of numbers, not  ",
     "output_type": "error",
     "traceback": [
      "\u001b[0;31m---------------------------------------------------------------------------\u001b[0m",
      "\u001b[0;31mValueError\u001b[0m                                Traceback (most recent call last)",
      "File \u001b[0;32m/usr/local/lib/python3.9/site-packages/matplotlib/axes/_axes.py:4221\u001b[0m, in \u001b[0;36mAxes._parse_scatter_color_args\u001b[0;34m(c, edgecolors, kwargs, xsize, get_next_color_func)\u001b[0m\n\u001b[1;32m   4220\u001b[0m \u001b[39mtry\u001b[39;00m:  \u001b[39m# Is 'c' acceptable as PathCollection facecolors?\u001b[39;00m\n\u001b[0;32m-> 4221\u001b[0m     colors \u001b[39m=\u001b[39m mcolors\u001b[39m.\u001b[39;49mto_rgba_array(c)\n\u001b[1;32m   4222\u001b[0m \u001b[39mexcept\u001b[39;00m (\u001b[39mTypeError\u001b[39;00m, \u001b[39mValueError\u001b[39;00m) \u001b[39mas\u001b[39;00m err:\n",
      "File \u001b[0;32m/usr/local/lib/python3.9/site-packages/matplotlib/colors.py:359\u001b[0m, in \u001b[0;36mto_rgba_array\u001b[0;34m(c, alpha)\u001b[0m\n\u001b[1;32m    358\u001b[0m \u001b[39mif\u001b[39;00m \u001b[39misinstance\u001b[39m(c, \u001b[39mstr\u001b[39m):\n\u001b[0;32m--> 359\u001b[0m     \u001b[39mraise\u001b[39;00m \u001b[39mValueError\u001b[39;00m(\u001b[39m\"\u001b[39m\u001b[39mUsing a string of single character colors as \u001b[39m\u001b[39m\"\u001b[39m\n\u001b[1;32m    360\u001b[0m                      \u001b[39m\"\u001b[39m\u001b[39ma color sequence is not supported. The colors can \u001b[39m\u001b[39m\"\u001b[39m\n\u001b[1;32m    361\u001b[0m                      \u001b[39m\"\u001b[39m\u001b[39mbe passed as an explicit list instead.\u001b[39m\u001b[39m\"\u001b[39m)\n\u001b[1;32m    363\u001b[0m \u001b[39mif\u001b[39;00m \u001b[39mlen\u001b[39m(c) \u001b[39m==\u001b[39m \u001b[39m0\u001b[39m:\n",
      "\u001b[0;31mValueError\u001b[0m: Using a string of single character colors as a color sequence is not supported. The colors can be passed as an explicit list instead.",
      "\nThe above exception was the direct cause of the following exception:\n",
      "\u001b[0;31mValueError\u001b[0m                                Traceback (most recent call last)",
      "\u001b[1;32m/Users/miyakyudai1928/python_flamework/機械学習/python_達人サイエンティスト/my3.ipynb セル 16\u001b[0m in \u001b[0;36m<cell line: 6>\u001b[0;34m()\u001b[0m\n\u001b[1;32m      <a href='vscode-notebook-cell:/Users/miyakyudai1928/python_flamework/%E6%A9%9F%E6%A2%B0%E5%AD%A6%E7%BF%92/python_%E9%81%94%E4%BA%BA%E3%82%B5%E3%82%A4%E3%82%A8%E3%83%B3%E3%83%86%E3%82%A3%E3%82%B9%E3%83%88/my3.ipynb#X21sZmlsZQ%3D%3D?line=3'>4</a>\u001b[0m y_combined \u001b[39m=\u001b[39m np\u001b[39m.\u001b[39mhstack((y_train, y_test))\n\u001b[1;32m      <a href='vscode-notebook-cell:/Users/miyakyudai1928/python_flamework/%E6%A9%9F%E6%A2%B0%E5%AD%A6%E7%BF%92/python_%E9%81%94%E4%BA%BA%E3%82%B5%E3%82%A4%E3%82%A8%E3%83%B3%E3%83%86%E3%82%A3%E3%82%B9%E3%83%88/my3.ipynb#X21sZmlsZQ%3D%3D?line=4'>5</a>\u001b[0m \u001b[39m#決定領域のプロット\u001b[39;00m\n\u001b[0;32m----> <a href='vscode-notebook-cell:/Users/miyakyudai1928/python_flamework/%E6%A9%9F%E6%A2%B0%E5%AD%A6%E7%BF%92/python_%E9%81%94%E4%BA%BA%E3%82%B5%E3%82%A4%E3%82%A8%E3%83%B3%E3%83%86%E3%82%A3%E3%82%B9%E3%83%88/my3.ipynb#X21sZmlsZQ%3D%3D?line=5'>6</a>\u001b[0m plot_decision_regions(X\u001b[39m=\u001b[39;49mX_combined_std, y\u001b[39m=\u001b[39;49my_combined, classifier\u001b[39m=\u001b[39;49mppn, test_idx\u001b[39m=\u001b[39;49m\u001b[39mrange\u001b[39;49m(\u001b[39m105\u001b[39;49m, \u001b[39m150\u001b[39;49m))\n\u001b[1;32m      <a href='vscode-notebook-cell:/Users/miyakyudai1928/python_flamework/%E6%A9%9F%E6%A2%B0%E5%AD%A6%E7%BF%92/python_%E9%81%94%E4%BA%BA%E3%82%B5%E3%82%A4%E3%82%A8%E3%83%B3%E3%83%86%E3%82%A3%E3%82%B9%E3%83%88/my3.ipynb#X21sZmlsZQ%3D%3D?line=6'>7</a>\u001b[0m \u001b[39m# 軸のラベルの設定\u001b[39;00m\n\u001b[1;32m      <a href='vscode-notebook-cell:/Users/miyakyudai1928/python_flamework/%E6%A9%9F%E6%A2%B0%E5%AD%A6%E7%BF%92/python_%E9%81%94%E4%BA%BA%E3%82%B5%E3%82%A4%E3%82%A8%E3%83%B3%E3%83%86%E3%82%A3%E3%82%B9%E3%83%88/my3.ipynb#X21sZmlsZQ%3D%3D?line=7'>8</a>\u001b[0m plt\u001b[39m.\u001b[39mxlabel(\u001b[39m\"\u001b[39m\u001b[39mpetal length [standardized]\u001b[39m\u001b[39m\"\u001b[39m)\n",
      "\u001b[1;32m/Users/miyakyudai1928/python_flamework/機械学習/python_達人サイエンティスト/my3.ipynb セル 16\u001b[0m in \u001b[0;36mplot_decision_regions\u001b[0;34m(X, y, classifier, test_idx, resolution)\u001b[0m\n\u001b[1;32m     <a href='vscode-notebook-cell:/Users/miyakyudai1928/python_flamework/%E6%A9%9F%E6%A2%B0%E5%AD%A6%E7%BF%92/python_%E9%81%94%E4%BA%BA%E3%82%B5%E3%82%A4%E3%82%A8%E3%83%B3%E3%83%86%E3%82%A3%E3%82%B9%E3%83%88/my3.ipynb#X21sZmlsZQ%3D%3D?line=35'>36</a>\u001b[0m \u001b[39mif\u001b[39;00m test_idx:\n\u001b[1;32m     <a href='vscode-notebook-cell:/Users/miyakyudai1928/python_flamework/%E6%A9%9F%E6%A2%B0%E5%AD%A6%E7%BF%92/python_%E9%81%94%E4%BA%BA%E3%82%B5%E3%82%A4%E3%82%A8%E3%83%B3%E3%83%86%E3%82%A3%E3%82%B9%E3%83%88/my3.ipynb#X21sZmlsZQ%3D%3D?line=36'>37</a>\u001b[0m     \u001b[39m#全てのデータ点をプロット\u001b[39;00m\n\u001b[1;32m     <a href='vscode-notebook-cell:/Users/miyakyudai1928/python_flamework/%E6%A9%9F%E6%A2%B0%E5%AD%A6%E7%BF%92/python_%E9%81%94%E4%BA%BA%E3%82%B5%E3%82%A4%E3%82%A8%E3%83%B3%E3%83%86%E3%82%A3%E3%82%B9%E3%83%88/my3.ipynb#X21sZmlsZQ%3D%3D?line=37'>38</a>\u001b[0m     X_test, y_test \u001b[39m=\u001b[39m X[test_idx, :], y[test_idx]\n\u001b[0;32m---> <a href='vscode-notebook-cell:/Users/miyakyudai1928/python_flamework/%E6%A9%9F%E6%A2%B0%E5%AD%A6%E7%BF%92/python_%E9%81%94%E4%BA%BA%E3%82%B5%E3%82%A4%E3%82%A8%E3%83%B3%E3%83%86%E3%82%A3%E3%82%B9%E3%83%88/my3.ipynb#X21sZmlsZQ%3D%3D?line=38'>39</a>\u001b[0m     plt\u001b[39m.\u001b[39;49mscatter(X_test[:, \u001b[39m0\u001b[39;49m], X_test[:, \u001b[39m1\u001b[39;49m], c \u001b[39m=\u001b[39;49m \u001b[39m\"\u001b[39;49m\u001b[39m \u001b[39;49m\u001b[39m\"\u001b[39;49m, edgecolor\u001b[39m=\u001b[39;49m \u001b[39m\"\u001b[39;49m\u001b[39mblack\u001b[39;49m\u001b[39m\"\u001b[39;49m, \n\u001b[1;32m     <a href='vscode-notebook-cell:/Users/miyakyudai1928/python_flamework/%E6%A9%9F%E6%A2%B0%E5%AD%A6%E7%BF%92/python_%E9%81%94%E4%BA%BA%E3%82%B5%E3%82%A4%E3%82%A8%E3%83%B3%E3%83%86%E3%82%A3%E3%82%B9%E3%83%88/my3.ipynb#X21sZmlsZQ%3D%3D?line=39'>40</a>\u001b[0m                 alpha\u001b[39m=\u001b[39;49m\u001b[39m1.0\u001b[39;49m, linewidth\u001b[39m=\u001b[39;49m\u001b[39m1\u001b[39;49m, marker\u001b[39m=\u001b[39;49m\u001b[39m\"\u001b[39;49m\u001b[39mo\u001b[39;49m\u001b[39m\"\u001b[39;49m, s\u001b[39m=\u001b[39;49m\u001b[39m100\u001b[39;49m, label\u001b[39m=\u001b[39;49m\u001b[39m\"\u001b[39;49m\u001b[39mtest set\u001b[39;49m\u001b[39m\"\u001b[39;49m)\n",
      "File \u001b[0;32m/usr/local/lib/python3.9/site-packages/matplotlib/pyplot.py:2807\u001b[0m, in \u001b[0;36mscatter\u001b[0;34m(x, y, s, c, marker, cmap, norm, vmin, vmax, alpha, linewidths, edgecolors, plotnonfinite, data, **kwargs)\u001b[0m\n\u001b[1;32m   2802\u001b[0m \u001b[39m@_copy_docstring_and_deprecators\u001b[39m(Axes\u001b[39m.\u001b[39mscatter)\n\u001b[1;32m   2803\u001b[0m \u001b[39mdef\u001b[39;00m \u001b[39mscatter\u001b[39m(\n\u001b[1;32m   2804\u001b[0m         x, y, s\u001b[39m=\u001b[39m\u001b[39mNone\u001b[39;00m, c\u001b[39m=\u001b[39m\u001b[39mNone\u001b[39;00m, marker\u001b[39m=\u001b[39m\u001b[39mNone\u001b[39;00m, cmap\u001b[39m=\u001b[39m\u001b[39mNone\u001b[39;00m, norm\u001b[39m=\u001b[39m\u001b[39mNone\u001b[39;00m,\n\u001b[1;32m   2805\u001b[0m         vmin\u001b[39m=\u001b[39m\u001b[39mNone\u001b[39;00m, vmax\u001b[39m=\u001b[39m\u001b[39mNone\u001b[39;00m, alpha\u001b[39m=\u001b[39m\u001b[39mNone\u001b[39;00m, linewidths\u001b[39m=\u001b[39m\u001b[39mNone\u001b[39;00m, \u001b[39m*\u001b[39m,\n\u001b[1;32m   2806\u001b[0m         edgecolors\u001b[39m=\u001b[39m\u001b[39mNone\u001b[39;00m, plotnonfinite\u001b[39m=\u001b[39m\u001b[39mFalse\u001b[39;00m, data\u001b[39m=\u001b[39m\u001b[39mNone\u001b[39;00m, \u001b[39m*\u001b[39m\u001b[39m*\u001b[39mkwargs):\n\u001b[0;32m-> 2807\u001b[0m     __ret \u001b[39m=\u001b[39m gca()\u001b[39m.\u001b[39;49mscatter(\n\u001b[1;32m   2808\u001b[0m         x, y, s\u001b[39m=\u001b[39;49ms, c\u001b[39m=\u001b[39;49mc, marker\u001b[39m=\u001b[39;49mmarker, cmap\u001b[39m=\u001b[39;49mcmap, norm\u001b[39m=\u001b[39;49mnorm,\n\u001b[1;32m   2809\u001b[0m         vmin\u001b[39m=\u001b[39;49mvmin, vmax\u001b[39m=\u001b[39;49mvmax, alpha\u001b[39m=\u001b[39;49malpha, linewidths\u001b[39m=\u001b[39;49mlinewidths,\n\u001b[1;32m   2810\u001b[0m         edgecolors\u001b[39m=\u001b[39;49medgecolors, plotnonfinite\u001b[39m=\u001b[39;49mplotnonfinite,\n\u001b[1;32m   2811\u001b[0m         \u001b[39m*\u001b[39;49m\u001b[39m*\u001b[39;49m({\u001b[39m\"\u001b[39;49m\u001b[39mdata\u001b[39;49m\u001b[39m\"\u001b[39;49m: data} \u001b[39mif\u001b[39;49;00m data \u001b[39mis\u001b[39;49;00m \u001b[39mnot\u001b[39;49;00m \u001b[39mNone\u001b[39;49;00m \u001b[39melse\u001b[39;49;00m {}), \u001b[39m*\u001b[39;49m\u001b[39m*\u001b[39;49mkwargs)\n\u001b[1;32m   2812\u001b[0m     sci(__ret)\n\u001b[1;32m   2813\u001b[0m     \u001b[39mreturn\u001b[39;00m __ret\n",
      "File \u001b[0;32m/usr/local/lib/python3.9/site-packages/matplotlib/__init__.py:1412\u001b[0m, in \u001b[0;36m_preprocess_data.<locals>.inner\u001b[0;34m(ax, data, *args, **kwargs)\u001b[0m\n\u001b[1;32m   1409\u001b[0m \u001b[39m@functools\u001b[39m\u001b[39m.\u001b[39mwraps(func)\n\u001b[1;32m   1410\u001b[0m \u001b[39mdef\u001b[39;00m \u001b[39minner\u001b[39m(ax, \u001b[39m*\u001b[39margs, data\u001b[39m=\u001b[39m\u001b[39mNone\u001b[39;00m, \u001b[39m*\u001b[39m\u001b[39m*\u001b[39mkwargs):\n\u001b[1;32m   1411\u001b[0m     \u001b[39mif\u001b[39;00m data \u001b[39mis\u001b[39;00m \u001b[39mNone\u001b[39;00m:\n\u001b[0;32m-> 1412\u001b[0m         \u001b[39mreturn\u001b[39;00m func(ax, \u001b[39m*\u001b[39;49m\u001b[39mmap\u001b[39;49m(sanitize_sequence, args), \u001b[39m*\u001b[39;49m\u001b[39m*\u001b[39;49mkwargs)\n\u001b[1;32m   1414\u001b[0m     bound \u001b[39m=\u001b[39m new_sig\u001b[39m.\u001b[39mbind(ax, \u001b[39m*\u001b[39margs, \u001b[39m*\u001b[39m\u001b[39m*\u001b[39mkwargs)\n\u001b[1;32m   1415\u001b[0m     auto_label \u001b[39m=\u001b[39m (bound\u001b[39m.\u001b[39marguments\u001b[39m.\u001b[39mget(label_namer)\n\u001b[1;32m   1416\u001b[0m                   \u001b[39mor\u001b[39;00m bound\u001b[39m.\u001b[39mkwargs\u001b[39m.\u001b[39mget(label_namer))\n",
      "File \u001b[0;32m/usr/local/lib/python3.9/site-packages/matplotlib/axes/_axes.py:4387\u001b[0m, in \u001b[0;36mAxes.scatter\u001b[0;34m(self, x, y, s, c, marker, cmap, norm, vmin, vmax, alpha, linewidths, edgecolors, plotnonfinite, **kwargs)\u001b[0m\n\u001b[1;32m   4384\u001b[0m \u001b[39mif\u001b[39;00m edgecolors \u001b[39mis\u001b[39;00m \u001b[39mNone\u001b[39;00m:\n\u001b[1;32m   4385\u001b[0m     orig_edgecolor \u001b[39m=\u001b[39m kwargs\u001b[39m.\u001b[39mget(\u001b[39m'\u001b[39m\u001b[39medgecolor\u001b[39m\u001b[39m'\u001b[39m, \u001b[39mNone\u001b[39;00m)\n\u001b[1;32m   4386\u001b[0m c, colors, edgecolors \u001b[39m=\u001b[39m \\\n\u001b[0;32m-> 4387\u001b[0m     \u001b[39mself\u001b[39;49m\u001b[39m.\u001b[39;49m_parse_scatter_color_args(\n\u001b[1;32m   4388\u001b[0m         c, edgecolors, kwargs, x\u001b[39m.\u001b[39;49msize,\n\u001b[1;32m   4389\u001b[0m         get_next_color_func\u001b[39m=\u001b[39;49m\u001b[39mself\u001b[39;49m\u001b[39m.\u001b[39;49m_get_patches_for_fill\u001b[39m.\u001b[39;49mget_next_color)\n\u001b[1;32m   4391\u001b[0m \u001b[39mif\u001b[39;00m plotnonfinite \u001b[39mand\u001b[39;00m colors \u001b[39mis\u001b[39;00m \u001b[39mNone\u001b[39;00m:\n\u001b[1;32m   4392\u001b[0m     c \u001b[39m=\u001b[39m np\u001b[39m.\u001b[39mma\u001b[39m.\u001b[39mmasked_invalid(c)\n",
      "File \u001b[0;32m/usr/local/lib/python3.9/site-packages/matplotlib/axes/_axes.py:4230\u001b[0m, in \u001b[0;36mAxes._parse_scatter_color_args\u001b[0;34m(c, edgecolors, kwargs, xsize, get_next_color_func)\u001b[0m\n\u001b[1;32m   4227\u001b[0m             \u001b[39mraise\u001b[39;00m invalid_shape_exception(c\u001b[39m.\u001b[39msize, xsize) \u001b[39mfrom\u001b[39;00m \u001b[39merr\u001b[39;00m\n\u001b[1;32m   4228\u001b[0m         \u001b[39m# Both the mapping *and* the RGBA conversion failed: pretty\u001b[39;00m\n\u001b[1;32m   4229\u001b[0m         \u001b[39m# severe failure => one may appreciate a verbose feedback.\u001b[39;00m\n\u001b[0;32m-> 4230\u001b[0m         \u001b[39mraise\u001b[39;00m \u001b[39mValueError\u001b[39;00m(\n\u001b[1;32m   4231\u001b[0m             \u001b[39mf\u001b[39m\u001b[39m\"\u001b[39m\u001b[39m'\u001b[39m\u001b[39mc\u001b[39m\u001b[39m'\u001b[39m\u001b[39m argument must be a color, a sequence of colors, \u001b[39m\u001b[39m\"\u001b[39m\n\u001b[1;32m   4232\u001b[0m             \u001b[39mf\u001b[39m\u001b[39m\"\u001b[39m\u001b[39mor a sequence of numbers, not \u001b[39m\u001b[39m{\u001b[39;00mc\u001b[39m}\u001b[39;00m\u001b[39m\"\u001b[39m) \u001b[39mfrom\u001b[39;00m \u001b[39merr\u001b[39;00m\n\u001b[1;32m   4233\u001b[0m \u001b[39melse\u001b[39;00m:\n\u001b[1;32m   4234\u001b[0m     \u001b[39mif\u001b[39;00m \u001b[39mlen\u001b[39m(colors) \u001b[39mnot\u001b[39;00m \u001b[39min\u001b[39;00m (\u001b[39m0\u001b[39m, \u001b[39m1\u001b[39m, xsize):\n\u001b[1;32m   4235\u001b[0m         \u001b[39m# NB: remember that a single color is also acceptable.\u001b[39;00m\n\u001b[1;32m   4236\u001b[0m         \u001b[39m# Besides *colors* will be an empty array if c == 'none'.\u001b[39;00m\n",
      "\u001b[0;31mValueError\u001b[0m: 'c' argument must be a color, a sequence of colors, or a sequence of numbers, not  "
     ]
    },
    {
     "data": {
      "image/png": "[encoded data removed]",
      "text/plain": [
       "<Figure size 432x288 with 1 Axes>"
      ]
     },
     "metadata": {
      "needs_background": "light"
     },
     "output_type": "display_data"
    }
   ],
   "source": [
    "#訓練データとテストデータの特徴量を行方向に結合\n",
    "X_combined_std = np.vstack((X_train_std, X_test_std))\n",
    "#訓練データとテストデータのクラスラベルを結合\n",
    "y_combined = np.hstack((y_train, y_test))\n",
    "#決定領域のプロット\n",
    "plot_decision_regions(X=X_combined_std, y=y_combined, classifier=ppn, test_idx=range(105, 150))\n",
    "# 軸のラベルの設定\n",
    "plt.xlabel(\"petal length [standardized]\")\n",
    "plt.ylabel(\"petal width [standardized]\")\n",
    "# 凡例の設定(左上に配置)\n",
    "plt.legend(loc=\"upper left\")\n",
    "plt.tight_layout()\n",
    "plt.show()\n",
    "\n"
   ]
  },
  {
   "attachments": {},
   "cell_type": "markdown",
   "metadata": {},
   "source": [
    "完全な線形分離が不可能なデータセットでは、上のようにパーセプトロンアルゴリズムでは決して収束しない。\n",
    "次にやるのは線形分離できない場合でもコストの最小値に収束する強力な線形分類器を取り上げる。"
   ]
  },
  {
   "attachments": {},
   "cell_type": "markdown",
   "metadata": {},
   "source": [
    "## ここで取り扱うのはロジスティック回帰モデル\n",
    "logit(p) = log p/(1-p)をロジット関数といい、pは正事象の確率。pを知りたいので、ロジット関数の逆関数を考える。それが、シグモイド関数である。以下はシグモイド関数の実装"
   ]
  },
  {
   "cell_type": "code",
   "execution_count": null,
   "metadata": {},
   "outputs": [
    {
     "data": {
      "image/png": "[encoded data removed]",
      "text/plain": [
       "<Figure size 432x288 with 1 Axes>"
      ]
     },
     "metadata": {
      "needs_background": "light"
     },
     "output_type": "display_data"
    }
   ],
   "source": [
    "import matplotlib.pyplot as plt\n",
    "import numpy as np\n",
    "#シグモイド関数の定義\n",
    "def sigmoid(z):\n",
    "    return 1.0 / (1.0 + np.exp(-z))\n",
    "# 0.1刻みで-7以上7未満のデータを生成\n",
    "z = np.arange(-7, 7, 0.1)\n",
    "# 生成したデータでシグモイド関数を実行\n",
    "phi_z = sigmoid(z)\n",
    "# 元のデータとシグモイド関数の出力をプロット\n",
    "plt.plot(z, phi_z)\n",
    "# 垂直線を追加(z=0)\n",
    "plt.axvline(x=0.0, color='r')\n",
    "# y軸の上限/下限を設定\n",
    "plt.ylim(-0.1, 1.1)\n",
    "# 軸のラベルを設定\n",
    "plt.xlabel('z')\n",
    "plt.ylabel('$\\phi (z)$')\n",
    "# y軸の目盛りを追加\n",
    "plt.yticks([0.0, 0.5, 1.0])\n",
    "# Axesクラスのオブジェクトの取得\n",
    "\"\"\"現在アクティブなAxesオブジェクトを返す(今から描画しようとしているもの)\"\"\"\n",
    "ax = plt.gca()\n",
    "# y軸のメモリ上に水平グリッド線を追加\n",
    "ax.yaxis.grid(True)\n",
    "plt.tight_layout()\n",
    "plt.show()\n"
   ]
  },
  {
   "attachments": {},
   "cell_type": "markdown",
   "metadata": {},
   "source": [
    "ADALINEが恒等関数との誤差\n",
    "ロジスティック回帰はシグモイド関数との誤差"
   ]
  },
  {
   "cell_type": "code",
   "execution_count": null,
   "metadata": {},
   "outputs": [],
   "source": [
    "class LogisticRegressionGD(object):\n",
    "    \"\"\"勾配降下法に基づくロジスティック回帰分類機\n",
    "    \n",
    "    パラメータ\n",
    "    ------------\n",
    "    eta : float\n",
    "        学習率 (0.0より大きく1.0以下の値)\n",
    "    n_iter : int\n",
    "        トレーニングデータのトレーニング回数\n",
    "    random_state : int\n",
    "        重みを初期化するための乱数シード\n",
    "\n",
    "    属性\n",
    "    ------------\n",
    "    w_ : 1次元配列\n",
    "        適合後の重み\n",
    "    cost_ : リスト\n",
    "        各エポックでの誤差平方和のコスト関数\n",
    "\n",
    "    \"\"\"\n",
    "    def __init__(self, eta=0.05, n_iter=100, random_state=1):\n",
    "        self.eta = eta\n",
    "        self.n_iter = n_iter\n",
    "        self.random_state = random_state\n",
    "\n",
    "    def fit(self, X, y):\n",
    "        \"\"\" トレーニングデータに適合させる\n",
    "\n",
    "        パラメータ\n",
    "        ------------\n",
    "        X : {配列のようなデータ構造}, shape = [n_samples, n_features]\n",
    "        トレーニングデータ\n",
    "        n_samplesはサンプルの個数、n_featuresは特徴量の個数\n",
    "        y : 配列のようなデータ構造, shape = [n_samples]\n",
    "        目的変数\n",
    "\n",
    "        戻り値\n",
    "        ------------\n",
    "        self : object\n",
    "\n",
    "        \"\"\"\n",
    "        rgen = np.random.RandomState(seed = self.random_state) # 乱数シードを1で固定\n",
    "        self.w_ = rgen.normal(loc=0.0, scale=0.01, size=1 + X.shape[1]) # 重みの初期化 X.shape[1]は特徴量の個数\n",
    "        self.cost_ = []\n",
    "\n",
    "        for i in range(self.n_iter):\n",
    "            net_input = self.net_input(X) # 総入力を計算\n",
    "            output = self.activation(net_input) # ここをシグモイド関数に変更(adalineでは恒等関数だった)\n",
    "            errors = (y - output) # 誤差を計算\n",
    "            self.w_[1:] += self.eta * X.T.dot(errors)\n",
    "            # 重みw0の更新, delta_w0 = eta * sum(errors)\n",
    "            self.w_[0] += self.eta * errors.sum()# errors.sum()はerrorsの合計\n",
    "            cost = -y.dot(np.log(output)) - ((1 - y).dot(np.log(1 - output)))\n",
    "            self.cost_.append(cost)\n",
    "        return self\n",
    "# ここまでfitメソッド\n",
    "\n",
    "    def net_input(self, X):\n",
    "        \"\"\"総入力を計算\"\"\"\n",
    "        return np.dot(X, self.w_[1:]) + self.w_[0]\n",
    "    # ここまでnet_inputメソッド\n",
    "\n",
    "    def activation(self, z):\n",
    "        \"\"\"ロジスティックシグモイド活性化関数の出力を計算\"\"\"\n",
    "        return 1. / (1. + np.exp(-np.clip(z, -250, 250)))\n",
    "        # ここまでactivationメソッド\n",
    "\n",
    "    def predict(self, X):\n",
    "        \"\"\"1ステップ後のクラスラベルを返す\"\"\"\n",
    "        return np.where(self.net_input(X) >= 0.0, 1, 0) #シグモイド関数(z)が0.5以上なら1(つまりzが０より大きい), 0.5未満なら0を返す\n",
    "        #下の画像を参照\n",
    "        #  ここまでpredictメソッド\n"
   ]
  },
  {
   "attachments": {
    "image.png": {
     "image/png": "[encoded data removed]"
    }
   },
   "cell_type": "markdown",
   "metadata": {},
   "source": [
    "![image.png](attachment:image.png)"
   ]
  },
  {
   "attachments": {},
   "cell_type": "markdown",
   "metadata": {},
   "source": [
    "#### ロジスティックモデルは２値分類タスクに限られる\n",
    "ここでは品種としてIris-Setosa(クラス0)とIris-versicolor(クラス1)のみを考慮。ちなみにIris-virginicaはクラス2で区分される。これが `y`にあたる。"
   ]
  },
  {
   "cell_type": "code",
   "execution_count": null,
   "metadata": {},
   "outputs": [
    {
     "name": "stderr",
     "output_type": "stream",
     "text": [
      "/var/folders/64/qzdb2kkj5c7934_prcdj4xvr0000gn/T/ipykernel_1517/3351863578.py:28: UserWarning: You passed a edgecolor/edgecolors ('black') for an unfilled marker ('x').  Matplotlib is ignoring the edgecolor in favor of the facecolor.  This behavior may change in the future.\n",
      "  plt.scatter(x=X[y == cl, 0],\n"
     ]
    },
    {
     "data": {
      "image/png": "[encoded data removed]",
      "text/plain": [
       "<Figure size 432x288 with 1 Axes>"
      ]
     },
     "metadata": {
      "needs_background": "light"
     },
     "output_type": "display_data"
    }
   ],
   "source": [
    "\n",
    "X_train_01_subset = X_train[(y_train == 0) | (y_train == 1)]# 訓練データのうち、クラスラベルが0か1のサンプルを抽出\n",
    "y_train_01_subset = y_train[(y_train == 0) | (y_train == 1)]# 正解データ(目的変数)のうち、クラスラベルが0か1のサンプルを抽出\n",
    "# ロジスティック回帰のインスタンスを生成\n",
    "lrgd = LogisticRegressionGD(eta=0.05, n_iter=1000, random_state=1 )\n",
    "# トレーニングデータに適合させる\n",
    "lrgd.fit(X_train_01_subset, y_train_01_subset)\n",
    "# 決定領域をプロット\n",
    "plot_decision_regions(X=X_train_01_subset, y=y_train_01_subset, classifier=lrgd)\n",
    "# 軸のラベルを設定\n",
    "plt.xlabel('petal length [standardized]')\n",
    "plt.ylabel('petal width [standardized]')\n",
    "# 凡例の設定\n",
    "plt.legend(loc='upper left')\n",
    "# 図を表示\n",
    "plt.tight_layout()\n",
    "plt.show()\n"
   ]
  },
  {
   "attachments": {},
   "cell_type": "markdown",
   "metadata": {},
   "source": [
    "#### 次は３つのクラスに分類できる標準化された訓練データセットでモデルを訓練する。"
   ]
  },
  {
   "cell_type": "code",
   "execution_count": 11,
   "metadata": {},
   "outputs": [
    {
     "name": "stderr",
     "output_type": "stream",
     "text": [
      "/var/folders/64/qzdb2kkj5c7934_prcdj4xvr0000gn/T/ipykernel_71109/3351863578.py:28: UserWarning: You passed a edgecolor/edgecolors ('black') for an unfilled marker ('x').  Matplotlib is ignoring the edgecolor in favor of the facecolor.  This behavior may change in the future.\n",
      "  plt.scatter(x=X[y == cl, 0],\n"
     ]
    },
    {
     "ename": "ValueError",
     "evalue": "'c' argument must be a color, a sequence of colors, or a sequence of numbers, not  ",
     "output_type": "error",
     "traceback": [
      "\u001b[0;31m---------------------------------------------------------------------------\u001b[0m",
      "\u001b[0;31mValueError\u001b[0m                                Traceback (most recent call last)",
      "File \u001b[0;32m/usr/local/lib/python3.9/site-packages/matplotlib/axes/_axes.py:4221\u001b[0m, in \u001b[0;36mAxes._parse_scatter_color_args\u001b[0;34m(c, edgecolors, kwargs, xsize, get_next_color_func)\u001b[0m\n\u001b[1;32m   4220\u001b[0m \u001b[39mtry\u001b[39;00m:  \u001b[39m# Is 'c' acceptable as PathCollection facecolors?\u001b[39;00m\n\u001b[0;32m-> 4221\u001b[0m     colors \u001b[39m=\u001b[39m mcolors\u001b[39m.\u001b[39;49mto_rgba_array(c)\n\u001b[1;32m   4222\u001b[0m \u001b[39mexcept\u001b[39;00m (\u001b[39mTypeError\u001b[39;00m, \u001b[39mValueError\u001b[39;00m) \u001b[39mas\u001b[39;00m err:\n",
      "File \u001b[0;32m/usr/local/lib/python3.9/site-packages/matplotlib/colors.py:359\u001b[0m, in \u001b[0;36mto_rgba_array\u001b[0;34m(c, alpha)\u001b[0m\n\u001b[1;32m    358\u001b[0m \u001b[39mif\u001b[39;00m \u001b[39misinstance\u001b[39m(c, \u001b[39mstr\u001b[39m):\n\u001b[0;32m--> 359\u001b[0m     \u001b[39mraise\u001b[39;00m \u001b[39mValueError\u001b[39;00m(\u001b[39m\"\u001b[39m\u001b[39mUsing a string of single character colors as \u001b[39m\u001b[39m\"\u001b[39m\n\u001b[1;32m    360\u001b[0m                      \u001b[39m\"\u001b[39m\u001b[39ma color sequence is not supported. The colors can \u001b[39m\u001b[39m\"\u001b[39m\n\u001b[1;32m    361\u001b[0m                      \u001b[39m\"\u001b[39m\u001b[39mbe passed as an explicit list instead.\u001b[39m\u001b[39m\"\u001b[39m)\n\u001b[1;32m    363\u001b[0m \u001b[39mif\u001b[39;00m \u001b[39mlen\u001b[39m(c) \u001b[39m==\u001b[39m \u001b[39m0\u001b[39m:\n",
      "\u001b[0;31mValueError\u001b[0m: Using a string of single character colors as a color sequence is not supported. The colors can be passed as an explicit list instead.",
      "\nThe above exception was the direct cause of the following exception:\n",
      "\u001b[0;31mValueError\u001b[0m                                Traceback (most recent call last)",
      "\u001b[1;32m/Users/miyakyudai1928/python_flamework/機械学習/python_達人サイエンティスト/my3.ipynb セル 26\u001b[0m in \u001b[0;36m<cell line: 7>\u001b[0;34m()\u001b[0m\n\u001b[1;32m      <a href='vscode-notebook-cell:/Users/miyakyudai1928/python_flamework/%E6%A9%9F%E6%A2%B0%E5%AD%A6%E7%BF%92/python_%E9%81%94%E4%BA%BA%E3%82%B5%E3%82%A4%E3%82%A8%E3%83%B3%E3%83%86%E3%82%A3%E3%82%B9%E3%83%88/my3.ipynb#X34sZmlsZQ%3D%3D?line=4'>5</a>\u001b[0m lr\u001b[39m.\u001b[39mfit(X_train_std, y_train)\n\u001b[1;32m      <a href='vscode-notebook-cell:/Users/miyakyudai1928/python_flamework/%E6%A9%9F%E6%A2%B0%E5%AD%A6%E7%BF%92/python_%E9%81%94%E4%BA%BA%E3%82%B5%E3%82%A4%E3%82%A8%E3%83%B3%E3%83%86%E3%82%A3%E3%82%B9%E3%83%88/my3.ipynb#X34sZmlsZQ%3D%3D?line=5'>6</a>\u001b[0m \u001b[39m# 決定領域をプロット\u001b[39;00m\n\u001b[0;32m----> <a href='vscode-notebook-cell:/Users/miyakyudai1928/python_flamework/%E6%A9%9F%E6%A2%B0%E5%AD%A6%E7%BF%92/python_%E9%81%94%E4%BA%BA%E3%82%B5%E3%82%A4%E3%82%A8%E3%83%B3%E3%83%86%E3%82%A3%E3%82%B9%E3%83%88/my3.ipynb#X34sZmlsZQ%3D%3D?line=6'>7</a>\u001b[0m plot_decision_regions(X_combined_std, y_combined, classifier\u001b[39m=\u001b[39;49mlr, test_idx\u001b[39m=\u001b[39;49m\u001b[39mrange\u001b[39;49m(\u001b[39m105\u001b[39;49m, \u001b[39m150\u001b[39;49m))\n\u001b[1;32m      <a href='vscode-notebook-cell:/Users/miyakyudai1928/python_flamework/%E6%A9%9F%E6%A2%B0%E5%AD%A6%E7%BF%92/python_%E9%81%94%E4%BA%BA%E3%82%B5%E3%82%A4%E3%82%A8%E3%83%B3%E3%83%86%E3%82%A3%E3%82%B9%E3%83%88/my3.ipynb#X34sZmlsZQ%3D%3D?line=7'>8</a>\u001b[0m \u001b[39m# 軸のラベルを設定\u001b[39;00m\n\u001b[1;32m      <a href='vscode-notebook-cell:/Users/miyakyudai1928/python_flamework/%E6%A9%9F%E6%A2%B0%E5%AD%A6%E7%BF%92/python_%E9%81%94%E4%BA%BA%E3%82%B5%E3%82%A4%E3%82%A8%E3%83%B3%E3%83%86%E3%82%A3%E3%82%B9%E3%83%88/my3.ipynb#X34sZmlsZQ%3D%3D?line=8'>9</a>\u001b[0m plt\u001b[39m.\u001b[39mxlabel(\u001b[39m'\u001b[39m\u001b[39mpetal length [standardized]\u001b[39m\u001b[39m'\u001b[39m)\n",
      "\u001b[1;32m/Users/miyakyudai1928/python_flamework/機械学習/python_達人サイエンティスト/my3.ipynb セル 26\u001b[0m in \u001b[0;36mplot_decision_regions\u001b[0;34m(X, y, classifier, test_idx, resolution)\u001b[0m\n\u001b[1;32m     <a href='vscode-notebook-cell:/Users/miyakyudai1928/python_flamework/%E6%A9%9F%E6%A2%B0%E5%AD%A6%E7%BF%92/python_%E9%81%94%E4%BA%BA%E3%82%B5%E3%82%A4%E3%82%A8%E3%83%B3%E3%83%86%E3%82%A3%E3%82%B9%E3%83%88/my3.ipynb#X34sZmlsZQ%3D%3D?line=35'>36</a>\u001b[0m \u001b[39mif\u001b[39;00m test_idx:\n\u001b[1;32m     <a href='vscode-notebook-cell:/Users/miyakyudai1928/python_flamework/%E6%A9%9F%E6%A2%B0%E5%AD%A6%E7%BF%92/python_%E9%81%94%E4%BA%BA%E3%82%B5%E3%82%A4%E3%82%A8%E3%83%B3%E3%83%86%E3%82%A3%E3%82%B9%E3%83%88/my3.ipynb#X34sZmlsZQ%3D%3D?line=36'>37</a>\u001b[0m     \u001b[39m#全てのデータ点をプロット\u001b[39;00m\n\u001b[1;32m     <a href='vscode-notebook-cell:/Users/miyakyudai1928/python_flamework/%E6%A9%9F%E6%A2%B0%E5%AD%A6%E7%BF%92/python_%E9%81%94%E4%BA%BA%E3%82%B5%E3%82%A4%E3%82%A8%E3%83%B3%E3%83%86%E3%82%A3%E3%82%B9%E3%83%88/my3.ipynb#X34sZmlsZQ%3D%3D?line=37'>38</a>\u001b[0m     X_test, y_test \u001b[39m=\u001b[39m X[test_idx, :], y[test_idx]\n\u001b[0;32m---> <a href='vscode-notebook-cell:/Users/miyakyudai1928/python_flamework/%E6%A9%9F%E6%A2%B0%E5%AD%A6%E7%BF%92/python_%E9%81%94%E4%BA%BA%E3%82%B5%E3%82%A4%E3%82%A8%E3%83%B3%E3%83%86%E3%82%A3%E3%82%B9%E3%83%88/my3.ipynb#X34sZmlsZQ%3D%3D?line=38'>39</a>\u001b[0m     plt\u001b[39m.\u001b[39;49mscatter(X_test[:, \u001b[39m0\u001b[39;49m], X_test[:, \u001b[39m1\u001b[39;49m], c \u001b[39m=\u001b[39;49m \u001b[39m\"\u001b[39;49m\u001b[39m \u001b[39;49m\u001b[39m\"\u001b[39;49m, edgecolor\u001b[39m=\u001b[39;49m \u001b[39m\"\u001b[39;49m\u001b[39mblack\u001b[39;49m\u001b[39m\"\u001b[39;49m, \n\u001b[1;32m     <a href='vscode-notebook-cell:/Users/miyakyudai1928/python_flamework/%E6%A9%9F%E6%A2%B0%E5%AD%A6%E7%BF%92/python_%E9%81%94%E4%BA%BA%E3%82%B5%E3%82%A4%E3%82%A8%E3%83%B3%E3%83%86%E3%82%A3%E3%82%B9%E3%83%88/my3.ipynb#X34sZmlsZQ%3D%3D?line=39'>40</a>\u001b[0m                 alpha\u001b[39m=\u001b[39;49m\u001b[39m1.0\u001b[39;49m, linewidth\u001b[39m=\u001b[39;49m\u001b[39m1\u001b[39;49m, marker\u001b[39m=\u001b[39;49m\u001b[39m\"\u001b[39;49m\u001b[39mo\u001b[39;49m\u001b[39m\"\u001b[39;49m, s\u001b[39m=\u001b[39;49m\u001b[39m100\u001b[39;49m, label\u001b[39m=\u001b[39;49m\u001b[39m\"\u001b[39;49m\u001b[39mtest set\u001b[39;49m\u001b[39m\"\u001b[39;49m)\n",
      "File \u001b[0;32m/usr/local/lib/python3.9/site-packages/matplotlib/pyplot.py:2807\u001b[0m, in \u001b[0;36mscatter\u001b[0;34m(x, y, s, c, marker, cmap, norm, vmin, vmax, alpha, linewidths, edgecolors, plotnonfinite, data, **kwargs)\u001b[0m\n\u001b[1;32m   2802\u001b[0m \u001b[39m@_copy_docstring_and_deprecators\u001b[39m(Axes\u001b[39m.\u001b[39mscatter)\n\u001b[1;32m   2803\u001b[0m \u001b[39mdef\u001b[39;00m \u001b[39mscatter\u001b[39m(\n\u001b[1;32m   2804\u001b[0m         x, y, s\u001b[39m=\u001b[39m\u001b[39mNone\u001b[39;00m, c\u001b[39m=\u001b[39m\u001b[39mNone\u001b[39;00m, marker\u001b[39m=\u001b[39m\u001b[39mNone\u001b[39;00m, cmap\u001b[39m=\u001b[39m\u001b[39mNone\u001b[39;00m, norm\u001b[39m=\u001b[39m\u001b[39mNone\u001b[39;00m,\n\u001b[1;32m   2805\u001b[0m         vmin\u001b[39m=\u001b[39m\u001b[39mNone\u001b[39;00m, vmax\u001b[39m=\u001b[39m\u001b[39mNone\u001b[39;00m, alpha\u001b[39m=\u001b[39m\u001b[39mNone\u001b[39;00m, linewidths\u001b[39m=\u001b[39m\u001b[39mNone\u001b[39;00m, \u001b[39m*\u001b[39m,\n\u001b[1;32m   2806\u001b[0m         edgecolors\u001b[39m=\u001b[39m\u001b[39mNone\u001b[39;00m, plotnonfinite\u001b[39m=\u001b[39m\u001b[39mFalse\u001b[39;00m, data\u001b[39m=\u001b[39m\u001b[39mNone\u001b[39;00m, \u001b[39m*\u001b[39m\u001b[39m*\u001b[39mkwargs):\n\u001b[0;32m-> 2807\u001b[0m     __ret \u001b[39m=\u001b[39m gca()\u001b[39m.\u001b[39;49mscatter(\n\u001b[1;32m   2808\u001b[0m         x, y, s\u001b[39m=\u001b[39;49ms, c\u001b[39m=\u001b[39;49mc, marker\u001b[39m=\u001b[39;49mmarker, cmap\u001b[39m=\u001b[39;49mcmap, norm\u001b[39m=\u001b[39;49mnorm,\n\u001b[1;32m   2809\u001b[0m         vmin\u001b[39m=\u001b[39;49mvmin, vmax\u001b[39m=\u001b[39;49mvmax, alpha\u001b[39m=\u001b[39;49malpha, linewidths\u001b[39m=\u001b[39;49mlinewidths,\n\u001b[1;32m   2810\u001b[0m         edgecolors\u001b[39m=\u001b[39;49medgecolors, plotnonfinite\u001b[39m=\u001b[39;49mplotnonfinite,\n\u001b[1;32m   2811\u001b[0m         \u001b[39m*\u001b[39;49m\u001b[39m*\u001b[39;49m({\u001b[39m\"\u001b[39;49m\u001b[39mdata\u001b[39;49m\u001b[39m\"\u001b[39;49m: data} \u001b[39mif\u001b[39;49;00m data \u001b[39mis\u001b[39;49;00m \u001b[39mnot\u001b[39;49;00m \u001b[39mNone\u001b[39;49;00m \u001b[39melse\u001b[39;49;00m {}), \u001b[39m*\u001b[39;49m\u001b[39m*\u001b[39;49mkwargs)\n\u001b[1;32m   2812\u001b[0m     sci(__ret)\n\u001b[1;32m   2813\u001b[0m     \u001b[39mreturn\u001b[39;00m __ret\n",
      "File \u001b[0;32m/usr/local/lib/python3.9/site-packages/matplotlib/__init__.py:1412\u001b[0m, in \u001b[0;36m_preprocess_data.<locals>.inner\u001b[0;34m(ax, data, *args, **kwargs)\u001b[0m\n\u001b[1;32m   1409\u001b[0m \u001b[39m@functools\u001b[39m\u001b[39m.\u001b[39mwraps(func)\n\u001b[1;32m   1410\u001b[0m \u001b[39mdef\u001b[39;00m \u001b[39minner\u001b[39m(ax, \u001b[39m*\u001b[39margs, data\u001b[39m=\u001b[39m\u001b[39mNone\u001b[39;00m, \u001b[39m*\u001b[39m\u001b[39m*\u001b[39mkwargs):\n\u001b[1;32m   1411\u001b[0m     \u001b[39mif\u001b[39;00m data \u001b[39mis\u001b[39;00m \u001b[39mNone\u001b[39;00m:\n\u001b[0;32m-> 1412\u001b[0m         \u001b[39mreturn\u001b[39;00m func(ax, \u001b[39m*\u001b[39;49m\u001b[39mmap\u001b[39;49m(sanitize_sequence, args), \u001b[39m*\u001b[39;49m\u001b[39m*\u001b[39;49mkwargs)\n\u001b[1;32m   1414\u001b[0m     bound \u001b[39m=\u001b[39m new_sig\u001b[39m.\u001b[39mbind(ax, \u001b[39m*\u001b[39margs, \u001b[39m*\u001b[39m\u001b[39m*\u001b[39mkwargs)\n\u001b[1;32m   1415\u001b[0m     auto_label \u001b[39m=\u001b[39m (bound\u001b[39m.\u001b[39marguments\u001b[39m.\u001b[39mget(label_namer)\n\u001b[1;32m   1416\u001b[0m                   \u001b[39mor\u001b[39;00m bound\u001b[39m.\u001b[39mkwargs\u001b[39m.\u001b[39mget(label_namer))\n",
      "File \u001b[0;32m/usr/local/lib/python3.9/site-packages/matplotlib/axes/_axes.py:4387\u001b[0m, in \u001b[0;36mAxes.scatter\u001b[0;34m(self, x, y, s, c, marker, cmap, norm, vmin, vmax, alpha, linewidths, edgecolors, plotnonfinite, **kwargs)\u001b[0m\n\u001b[1;32m   4384\u001b[0m \u001b[39mif\u001b[39;00m edgecolors \u001b[39mis\u001b[39;00m \u001b[39mNone\u001b[39;00m:\n\u001b[1;32m   4385\u001b[0m     orig_edgecolor \u001b[39m=\u001b[39m kwargs\u001b[39m.\u001b[39mget(\u001b[39m'\u001b[39m\u001b[39medgecolor\u001b[39m\u001b[39m'\u001b[39m, \u001b[39mNone\u001b[39;00m)\n\u001b[1;32m   4386\u001b[0m c, colors, edgecolors \u001b[39m=\u001b[39m \\\n\u001b[0;32m-> 4387\u001b[0m     \u001b[39mself\u001b[39;49m\u001b[39m.\u001b[39;49m_parse_scatter_color_args(\n\u001b[1;32m   4388\u001b[0m         c, edgecolors, kwargs, x\u001b[39m.\u001b[39;49msize,\n\u001b[1;32m   4389\u001b[0m         get_next_color_func\u001b[39m=\u001b[39;49m\u001b[39mself\u001b[39;49m\u001b[39m.\u001b[39;49m_get_patches_for_fill\u001b[39m.\u001b[39;49mget_next_color)\n\u001b[1;32m   4391\u001b[0m \u001b[39mif\u001b[39;00m plotnonfinite \u001b[39mand\u001b[39;00m colors \u001b[39mis\u001b[39;00m \u001b[39mNone\u001b[39;00m:\n\u001b[1;32m   4392\u001b[0m     c \u001b[39m=\u001b[39m np\u001b[39m.\u001b[39mma\u001b[39m.\u001b[39mmasked_invalid(c)\n",
      "File \u001b[0;32m/usr/local/lib/python3.9/site-packages/matplotlib/axes/_axes.py:4230\u001b[0m, in \u001b[0;36mAxes._parse_scatter_color_args\u001b[0;34m(c, edgecolors, kwargs, xsize, get_next_color_func)\u001b[0m\n\u001b[1;32m   4227\u001b[0m             \u001b[39mraise\u001b[39;00m invalid_shape_exception(c\u001b[39m.\u001b[39msize, xsize) \u001b[39mfrom\u001b[39;00m \u001b[39merr\u001b[39;00m\n\u001b[1;32m   4228\u001b[0m         \u001b[39m# Both the mapping *and* the RGBA conversion failed: pretty\u001b[39;00m\n\u001b[1;32m   4229\u001b[0m         \u001b[39m# severe failure => one may appreciate a verbose feedback.\u001b[39;00m\n\u001b[0;32m-> 4230\u001b[0m         \u001b[39mraise\u001b[39;00m \u001b[39mValueError\u001b[39;00m(\n\u001b[1;32m   4231\u001b[0m             \u001b[39mf\u001b[39m\u001b[39m\"\u001b[39m\u001b[39m'\u001b[39m\u001b[39mc\u001b[39m\u001b[39m'\u001b[39m\u001b[39m argument must be a color, a sequence of colors, \u001b[39m\u001b[39m\"\u001b[39m\n\u001b[1;32m   4232\u001b[0m             \u001b[39mf\u001b[39m\u001b[39m\"\u001b[39m\u001b[39mor a sequence of numbers, not \u001b[39m\u001b[39m{\u001b[39;00mc\u001b[39m}\u001b[39;00m\u001b[39m\"\u001b[39m) \u001b[39mfrom\u001b[39;00m \u001b[39merr\u001b[39;00m\n\u001b[1;32m   4233\u001b[0m \u001b[39melse\u001b[39;00m:\n\u001b[1;32m   4234\u001b[0m     \u001b[39mif\u001b[39;00m \u001b[39mlen\u001b[39m(colors) \u001b[39mnot\u001b[39;00m \u001b[39min\u001b[39;00m (\u001b[39m0\u001b[39m, \u001b[39m1\u001b[39m, xsize):\n\u001b[1;32m   4235\u001b[0m         \u001b[39m# NB: remember that a single color is also acceptable.\u001b[39;00m\n\u001b[1;32m   4236\u001b[0m         \u001b[39m# Besides *colors* will be an empty array if c == 'none'.\u001b[39;00m\n",
      "\u001b[0;31mValueError\u001b[0m: 'c' argument must be a color, a sequence of colors, or a sequence of numbers, not  "
     ]
    },
    {
     "data": {
      "image/png": "[encoded data removed]",
      "text/plain": [
       "<Figure size 432x288 with 1 Axes>"
      ]
     },
     "metadata": {
      "needs_background": "light"
     },
     "output_type": "display_data"
    }
   ],
   "source": [
    "from sklearn.linear_model import LogisticRegression\n",
    "# ロジスティック回帰のインスタンスを生成\n",
    "lr = LogisticRegression(C=100.0, random_state=1, solver='lbfgs', multi_class='ovr')\n",
    "# トレーニングデータに適合させる\n",
    "lr.fit(X_train_std, y_train)\n",
    "# 決定領域をプロット\n",
    "plot_decision_regions(X_combined_std, y_combined, classifier=lr, test_idx=range(105, 150))\n",
    "# 軸のラベルを設定\n",
    "plt.xlabel('petal length [standardized]')\n",
    "plt.ylabel('petal width [standardized]')\n",
    "# 凡例の設定\n",
    "plt.legend(loc='upper left')\n",
    "# 図を表示\n",
    "plt.tight_layout()\n",
    "plt.show()\n",
    "\n"
   ]
  },
  {
   "cell_type": "code",
   "execution_count": 15,
   "metadata": {},
   "outputs": [
    {
     "data": {
      "text/plain": [
       "array([[3.81527885e-09, 1.44792866e-01, 8.55207131e-01],\n",
       "       [8.34020679e-01, 1.65979321e-01, 3.25737138e-13],\n",
       "       [8.48831425e-01, 1.51168575e-01, 2.62277619e-14]])"
      ]
     },
     "execution_count": 15,
     "metadata": {},
     "output_type": "execute_result"
    }
   ],
   "source": [
    "lr.predict_proba(X_test_std[:3, :])# 3つのサンプルのクラス確率を表示\n",
    "# X_test_std[:3, :]は、X_test_stdの0行目から2行目まで、すべての列を抽出したもの"
   ]
  },
  {
   "attachments": {},
   "cell_type": "markdown",
   "metadata": {},
   "source": [
    "上の結果は1つのデータ点に関するクラスの所属確率を表している。たとえば最初のデータはクラス2に所属する確率が約85%であることを示す。"
   ]
  },
  {
   "attachments": {},
   "cell_type": "markdown",
   "metadata": {},
   "source": [
    "#### 過学習について\n",
    "過学習とは、訓練データでは機能するモデルが、テストデータではうまく機能しないという問題のことをいう。過学習が発生しているモデルは「バリアンスが高い」といい、学習不足であるモデルは「バイアスが高い」という。過学習が発生する原因としてデータに対してモデルが複雑すぎるということがある。"
   ]
  },
  {
   "attachments": {},
   "cell_type": "markdown",
   "metadata": {},
   "source": [
    "#### 対策\n",
    "対策として、「正則化」に基づいてモデルの複雑さを調整するという方法がある。正則化は共線性を処理する非常に便利な手法。主成分分析でやったみたいにデータからノイズを取り除く。"
   ]
  },
  {
   "attachments": {},
   "cell_type": "markdown",
   "metadata": {},
   "source": [
    "11個目のコードに出てきているパラメータCは正則化パラメータλに直接関連しており、C = 1/λである。"
   ]
  },
  {
   "cell_type": "code",
   "execution_count": null,
   "metadata": {},
   "outputs": [],
   "source": []
  },
  {
   "cell_type": "code",
   "execution_count": null,
   "metadata": {},
   "outputs": [],
   "source": []
  }
 ],
 "metadata": {
  "kernelspec": {
   "display_name": "Python 3",
   "language": "python",
   "name": "python3"
  },
  "language_info": {
   "codemirror_mode": {
    "name": "ipython",
    "version": 3
   },
   "file_extension": ".py",
   "mimetype": "text/x-python",
   "name": "python",
   "nbconvert_exporter": "python",
   "pygments_lexer": "ipython3",
   "version": "3.9.14"
  },
  "orig_nbformat": 4,
  "vscode": {
   "interpreter": {
    "hash": "397704579725e15f5c7cb49fe5f0341eb7531c82d19f2c29d197e8b64ab5776b"
   }
  }
 },
 "nbformat": 4,
 "nbformat_minor": 2
}
