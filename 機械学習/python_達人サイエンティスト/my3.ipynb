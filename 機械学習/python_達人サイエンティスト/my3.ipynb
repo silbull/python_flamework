{
 "cells": [
  {
   "attachments": {},
   "cell_type": "markdown",
   "metadata": {},
   "source": [
    "### scikit-learnは２章で考えたパーセプトロンやADALINEなどをユーザフレンドリーなAPIを使って実装できるプログラム"
   ]
  },
  {
   "attachments": {},
   "cell_type": "markdown",
   "metadata": {},
   "source": [
    "irisのデータセットは人気のデータセットゆえにこのライブラリに組み込まれている"
   ]
  },
  {
   "attachments": {},
   "cell_type": "markdown",
   "metadata": {},
   "source": [
    "iris = [がく片の長さ, がく片の幅, 花びらの長さ, 花びらの幅]"
   ]
  },
  {
   "cell_type": "code",
   "execution_count": 2,
   "metadata": {},
   "outputs": [
    {
     "name": "stdout",
     "output_type": "stream",
     "text": [
      "クラスラベル: [0 1 2]\n"
     ]
    }
   ],
   "source": [
    "from sklearn import datasets\n",
    "import numpy as np\n",
    "iris = datasets.load_iris()\n",
    "\"\"\"行は指定せず列を指定、今回は花びらの長さと花びらの幅を算出\"\"\"\n",
    "X = iris.data[:, [2, 3]]\n",
    "#iris.targetでクラスラベルを取得\n",
    "Y = iris.target\n",
    "print(\"クラスラベル:\", np.unique(Y))"
   ]
  },
  {
   "cell_type": "code",
   "execution_count": 6,
   "metadata": {},
   "outputs": [],
   "source": [
    "from sklearn.model_selection import train_test_split\n",
    "#訓練データとテストデータに分割\n",
    "#全体の30%をテストデータにする\n",
    "\"\"\"\n",
    "stratifyにクラスラベルYを設定するとデータセットの特性を考慮して分割させることができる\n",
    "つまり、訓練サブセットとテストサブセットに含まれるクラスラベルの比率が入力データセットと同じになる\n",
    "\"\"\"\n",
    "X_train, X_test, y_train, y_test = train_test_split(\n",
    "    X, Y, test_size = 0.3, random_state=1, stratify=Y\n",
    ")"
   ]
  },
  {
   "attachments": {},
   "cell_type": "markdown",
   "metadata": {},
   "source": [
    "特徴量をスケーリングする\n",
    "勾配降下法は特徴量のスケーリングの恩恵を受ける\n",
    "データセットに標準正規分布の0平均と単位分散という特性が与えられる。N(0, 1)ってやつ\n",
    "手法としては、各特徴量の平均をずらして中身が0になるようにし、標準偏差を１にする\n",
    "``\n",
    "x' = (x - μ)/δ\n",
    "``"
   ]
  },
  {
   "cell_type": "code",
   "execution_count": 7,
   "metadata": {},
   "outputs": [],
   "source": [
    "from sklearn.preprocessing import StandardScaler\n",
    "\"\"\"特徴量を標準化する\"\"\"\n",
    "sc = StandardScaler()\n",
    "\"\"\"訓練データの平均と標準偏差を計算\"\"\"\n",
    "sc.fit(X_train)\n",
    "\"\"\"\n",
    "平均と標準偏差を用いて標準化\n",
    "transformメソッドはfitメソッドで推定した平均値パラメタと標準偏差パラメタを使って訓練データを標準化する。\n",
    "テストデータも標準化する(下)\n",
    "\"\"\"\n",
    "X_train_std = sc.transform(X_train)\n",
    "X_test_std = sc.transform(X_test)\n"
   ]
  },
  {
   "cell_type": "code",
   "execution_count": 8,
   "metadata": {},
   "outputs": [
    {
     "data": {
      "text/plain": [
       "Perceptron(eta0=0.01, random_state=1)"
      ]
     },
     "execution_count": 8,
     "metadata": {},
     "output_type": "execute_result"
    }
   ],
   "source": [
    "from sklearn.linear_model import Perceptron\n",
    "#パーセプトロンのインスタンス作成(ライブラリから)\n",
    "ppn  = Perceptron(eta0 = 0.01, random_state=1) #random_stateを1にすることで、エポックごとに訓練データセットの並び替えが再現できるようになる\n",
    "ppn.fit(X_train_std, y_train)\n"
   ]
  },
  {
   "cell_type": "code",
   "execution_count": null,
   "metadata": {},
   "outputs": [],
   "source": []
  }
 ],
 "metadata": {
  "kernelspec": {
   "display_name": "Python 3",
   "language": "python",
   "name": "python3"
  },
  "language_info": {
   "codemirror_mode": {
    "name": "ipython",
    "version": 3
   },
   "file_extension": ".py",
   "mimetype": "text/x-python",
   "name": "python",
   "nbconvert_exporter": "python",
   "pygments_lexer": "ipython3",
   "version": "3.9.14"
  },
  "orig_nbformat": 4,
  "vscode": {
   "interpreter": {
    "hash": "397704579725e15f5c7cb49fe5f0341eb7531c82d19f2c29d197e8b64ab5776b"
   }
  }
 },
 "nbformat": 4,
 "nbformat_minor": 2
}
